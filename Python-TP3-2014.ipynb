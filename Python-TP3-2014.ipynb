{
 "metadata": {
  "name": "",
  "signature": "sha256:a6256dbdfc6fe7be450e2436621c6171cd62469e4baf49e186d07202783fc8d7"
 },
 "nbformat": 3,
 "nbformat_minor": 0,
 "worksheets": [
  {
   "cells": [
    {
     "cell_type": "heading",
     "level": 5,
     "metadata": {},
     "source": [
      "TP 3 -- Informatique CM3 -- Octobre 2014 "
     ]
    },
    {
     "cell_type": "heading",
     "level": 1,
     "metadata": {},
     "source": [
      "Python @ Polytech'Lille"
     ]
    },
    {
     "cell_type": "markdown",
     "metadata": {},
     "source": [
      "Le texte de cette sessions de travaux pratiques est \u00e9galement disponible ici\n",
      "http://nbviewer.ipython.org/github/ecalzavarini/python-at-polytech-lille/blob/master/Python-TP3-2014.ipynb"
     ]
    },
    {
     "cell_type": "markdown",
     "metadata": {},
     "source": [
      "Nous vous rappelons que les modalit\u00e9s pour accomplir ce TP :\n",
      "\n",
      "Vous aurez \u00e0 \u00e9crire plusieurs scripts (script1.py , script2.py , ...). Les scripts doivent \u00eatre accompagn\u00e9s par un document descriptif unique (README.txt). Dans ce fichier, vous devrez d\u00e9crire le mode de fonctionnement des scripts et, si besoin, mettre vos commentaires. Merci d'y \u00e9crire aussi vos noms et prenoms complets.\n",
      "Tous les fichiers doivent etre mis dans un dossier appel\u00e9 TP1-nom1-nom2 et ensuite \u00eatre compress\u00e9s dans un fichier archive TP1-nom1-nom2.tgz .\n",
      "Enfin vous allez envoyer ce fichier par email \u00e0 l'enseignant: soit Enrico (enrico.calzavarini@polytech-lille.fr) ou Stefano (stefano.berti@polytech-lille.fr).\n",
      "\n",
      "Vous avez une semaine de temps pour compl\u00e9ter le TP, c'est-\u00e0-dire que la date limite pour envoyer vos travaux c'est le jour avant le TP suivant."
     ]
    },
    {
     "cell_type": "heading",
     "level": 5,
     "metadata": {},
     "source": [
      "Tracer le graphique d'un champ vectoriel en deux dimensions"
     ]
    },
    {
     "cell_type": "code",
     "collapsed": false,
     "input": [
      "%matplotlib inline \n",
      "\n",
      "import matplotlib.pylab as plt\n",
      "import numpy as np\n",
      "from math import *\n",
      "\n",
      "x = np.arange(0,2*pi,0.2)\n",
      "y = np.arange(0,2*pi,0.2)\n",
      "\n",
      "# np.meshgrid, produit une matrices de coordonn\u00e9es \u00e0 partir de deux vecteurs. \n",
      "X,Y = np.meshgrid(x,y) \n",
      "\n",
      "#d\u00e9finition du champ vectoriel\n",
      "U = np.sin(Y)*np.cos(Y)\n",
      "V = -np.cos(X)*np.sin(X)\n",
      "\n",
      "C =  ( U**2. + V**2. )**.5 # calcul du module de la vitesse\n",
      "\n",
      "plt.figure( figsize=(10,10) )  # taille de la figure : 10 x 10 pouces\n",
      "\n",
      "plt.quiver( X, Y, U, V , C , scale = 20.)\n",
      "\n",
      "plt.axis([0, 2*pi, 0, 2*pi])\n",
      "plt.axes().set_aspect(1)\n",
      "\n",
      "plt.show()"
     ],
     "language": "python",
     "metadata": {},
     "outputs": []
    },
    {
     "cell_type": "heading",
     "level": 3,
     "metadata": {},
     "source": [
      "Script 1 "
     ]
    },
    {
     "cell_type": "markdown",
     "metadata": {},
     "source": [
      "\u00c9crire  un script qui effectue les calculs et actions suivantes :\n",
      "\n",
      "a) trace le graphique d'un champ de deformation de type cisaillement, c'est-\u00e0-dire  \n",
      "\n",
      "$$ {\\bf u} = (u_x, u_y) = \\left( \\begin{array}{cc}\n",
      "\\partial_x u_x  & \\partial_y u_x \\\\\n",
      "\\partial_x u_y  & \\partial_y u_y \\end{array} \\right) \n",
      "\\left( \\begin{array}{c}\n",
      "x   \\\\\n",
      "y  \\end{array} \\right)=  \n",
      "\\left( \\begin{array}{c}\n",
      "\\gamma y   \\\\\n",
      "0  \\end{array} \\right)$$\n",
      "\n",
      "\n",
      "ou  $\\gamma = \\partial_y u_x$ est le taux de deformation, ici suppos\u00e9e constante.\n",
      "\n",
      "b) calcule la matrice gradient de deformation pour l'\u00e9coulement : \n",
      "$$ \\nabla u =  \\left( \\begin{array}{cc}\n",
      "\\partial_x u_x & \\partial_y u_x  \\\\\n",
      "\\partial_x u_y & \\partial_y u_y \\end{array} \\right) $$.\n",
      "\n",
      "c) d\u00e9compose cette matrice dans sa partie sym\u00e9trique ($S$) et dans sa partie antisym\u00e9trique ($A$) :\n",
      "\n",
      "$$ S = \\frac{1}{2}\\left(\\nabla u  + (\\nabla u )^T \\right) $$\n",
      "\n",
      "$$ A = \\frac{1}{2}\\left(\\nabla u  - (\\nabla u )^T \\right) $$\n",
      "\n",
      "d) calcule le champ de deformation correspondant \u00e0 $S$ et $A$, appell\u00e9s respectivement $u_S$ et $u_A$\n",
      "\n",
      "e) trace les graphiques de deux nouveaux champs de deformation, $u_S$ et $u_A$. \n",
      "\n",
      "f) enfin, trace le graphique de la somme de $u_S$ et $u_A$.\n",
      "\n",
      "Qu'apprenons-nous des ces quatre graphiques ?\n",
      "\n",
      "Dans les cours de m\u00e9canique des milieux continus, on entend souvent dire qu'une d\u00e9formation de type cisaillement est \u00e9quivalente \u00e0 la somme d'une rotation (champ $A$) et d'un \u00e9tirement, elongation et compression, (champ $S$). \n",
      "Avec ce script, vous montrerez d'une fa\u00e7on graphique que cette affirmation est bien v\u00e9rifi\u00e9e."
     ]
    },
    {
     "cell_type": "heading",
     "level": 5,
     "metadata": {},
     "source": [
      "Tranpsosition d'une matrice avec les arrays de $numpy$"
     ]
    },
    {
     "cell_type": "code",
     "collapsed": false,
     "input": [
      "import numpy as np\n",
      "\n",
      "a = np.array([[1,2],[3,4]]) # a: matrice 2 x 2\n",
      "print(\"a = \")\n",
      "print(a)\n",
      "\n",
      "at=np.transpose(a) # transposition de la matrice a\n",
      "print(\"at = \")\n",
      "print(at)"
     ],
     "language": "python",
     "metadata": {},
     "outputs": [
      {
       "output_type": "stream",
       "stream": "stdout",
       "text": [
        "a = \n",
        "[[1 2]\n",
        " [3 4]]\n",
        "at = \n",
        "[[1 3]\n",
        " [2 4]]\n"
       ]
      }
     ],
     "prompt_number": 35
    },
    {
     "cell_type": "heading",
     "level": 3,
     "metadata": {},
     "source": [
      "Script 2 : Transport du vecteur vitesse"
     ]
    },
    {
     "cell_type": "markdown",
     "metadata": {},
     "source": [
      "On veut \u00e9crire un script qui met en oeuvre une relation notable de la cin\u00e9matique des solides rigides: la formule du transport du vecteur vitesse entre deux points $A$ et $B$ appartenants \u00e0 un m\u00eame solide $S_1$ (en mouvement par rapport \u00e0 un autre solide $S_0$):"
     ]
    },
    {
     "cell_type": "markdown",
     "metadata": {},
     "source": [
      "$$\\vec{\\bf V}(B \\in S_1/S_0) = \\vec{\\bf V}(A \\in S_1/S_0) + \\vec{\\bf \\Omega}_{S_1/S_0} \\wedge \\vec{\\bf AB}$$"
     ]
    },
    {
     "cell_type": "markdown",
     "metadata": {},
     "source": [
      "Plus pr\u00e9cis\u00e9ment, le script devra demander \u00e0 l'utilisateur les coordonn\u00e9es des points $A$ et $ B$, la vitesse en $A$ ainsi que le vecteur rotation $\\vec{\\bf \\Omega}_{S_1/S_0}$ du solide $S_1$ par rapport au solide $S_0$. Il calculera le vectur vitesse en $B$ et sa norme $|\\vec{\\bf V}(B \\in S_1/S_0)|$. "
     ]
    },
    {
     "cell_type": "markdown",
     "metadata": {},
     "source": [
      "En utilisant des operations simples sur les elements des arrays (vecteurs ou matrices), ainsi que des boucles $for$, \u00e9crivez par vous-m\u00eames les deux fonctions qui effectuent le produit scalaire et le produit vectoriel de deux vecteurs, m\u00eame si, comme vous pouvez l'imaginer, $numpy$ poss\u00e8de d\u00e9j\u00e0 des fonctions pour cela faire, qui sont tr\u00e8s pratiques \u00e0 utiliser:"
     ]
    },
    {
     "cell_type": "code",
     "collapsed": false,
     "input": [
      "import numpy as np\n",
      "\n",
      "a = np.array([1,2,3])\n",
      "b = np.array([0,1,5])\n",
      "\n",
      "np.dot(a,b) # produit scalaire"
     ],
     "language": "python",
     "metadata": {},
     "outputs": [
      {
       "metadata": {},
       "output_type": "pyout",
       "prompt_number": 38,
       "text": [
        "17"
       ]
      }
     ],
     "prompt_number": 38
    },
    {
     "cell_type": "code",
     "collapsed": false,
     "input": [
      "np.cross(a,b) # produit vectoriel"
     ],
     "language": "python",
     "metadata": {},
     "outputs": [
      {
       "metadata": {},
       "output_type": "pyout",
       "prompt_number": 39,
       "text": [
        "array([ 7, -5,  1])"
       ]
      }
     ],
     "prompt_number": 39
    },
    {
     "cell_type": "markdown",
     "metadata": {},
     "source": [
      "V\u00e9rifiez que votre script est correct en utilisant les fonctions ci-dessus."
     ]
    },
    {
     "cell_type": "markdown",
     "metadata": {},
     "source": [
      "Vue la n\u00e9cessit\u00e9 de rentrer certaines donn\u00e9es (les coordonn\u00e9es des points et les composantes de vecteurs) plusieurs fois, il pourrait \u00eatre pratique de d\u00e9finir aussi une fonction pour la lecture de ce type de donn\u00e9es. "
     ]
    },
    {
     "cell_type": "heading",
     "level": 3,
     "metadata": {},
     "source": [
      "Script 3 : Propagation d'une perturbation"
     ]
    },
    {
     "cell_type": "markdown",
     "metadata": {},
     "source": [
      "L'\u00e9quation de convection lin\u00e9aire est une mod\u00e8le math\u00e9matique simple d\u00e9crivant la propagation d'un champ scalaire (tel qu'une perturbation, une vague, une vibration, ou bien un champ de concentration d'une substance chimique) dans un milieu \u00e0 dissipation n\u00e9gligeable. Elle est utilis\u00e9e dans une large gamme de domaines qui vont de la m\u00e9t\u00e9orologie \u00e0 l'oc\u00e9anographie, \u00e0 la physique et l'ing\u00e9nierie. Cette \u00e9quation s'\u00e9crit:  \n",
      "\n",
      "$$ \\frac{\\partial u}{\\partial t} + c \\frac{ \\partial u}{\\partial x} = 0$$\n",
      "\n",
      "Si la condition initiale (entendue comme la forme de la perturbation initiale) est $u(x, t=0) = u_0 (x)$ , on peut montrer que la solution exacte de l'\u00e9quation est $u (x, t) = u_0 (x-ct)$, c'est-\u00e0-dire que la perturbation se propage sans changement de forme avec une vitesse $c$.\n",
      "\n",
      "Pour la r\u00e9soudre num\u00e9riquement, nous pouvons discr\u00e9tiser cette \u00e9quation dans l'espace et dans le temps en utilisant le sch\u00e9ma de diff\u00e9rences finies en avant pour la d\u00e9riv\u00e9e temporelle et le sch\u00e9ma de diff\u00e9rences finies en arri\u00e8re pour le d\u00e9riv\u00e9e par rapport \u00e0 l'espace. Pensez \u00e0 la discr\u00e9tisation des coordonn\u00e9es spatiales $x$ en points d\u00e9sign\u00e9s par un indice $i$ qui varie de $0$ \u00e0 $N$, et la disct\u00e9risation temporelle par intervalles de temps discrets de taille $\\Delta t$. \n",
      "\n",
      "A partir de la d\u00e9finition de d\u00e9riv\u00e9e (en supprimant tout simplement la limite), nous savons que:\n",
      "\n",
      "$$\\frac{\\partial u}{\\partial x} \\simeq \\frac{u(x+\\Delta x) - u(x)}{\\Delta x} $$\n",
      "\n",
      "Notre \u00e9quation discr\u00e8te, alors, est:\n",
      "\n",
      "$$\\frac{u_i^{n+1} - u_i^{n}}{\\Delta t} + c \\frac{u_i^{n+1} - u_{i-1}^{n}}{\\Delta x} = 0$$\n",
      "\n",
      "O\u00f9 $n$ et $n + 1$ sont deux \u00e9tapes cons\u00e9cutives dans le temps, tandis que $i-1$ et $i$ sont deux points voisins de la coordonn\u00e9e discr\u00e9tis\u00e9e $x$. Si on donne les conditions initiales, la seule inconnue dans cette discr\u00e9tisation est $u_i^{n+1}$. Nous pouvons r\u00e9soudre pour notre inconnue pour obtenir une \u00e9quation qui nous permet d'avancer dans le temps, comme suit:\n",
      "\n",
      "\n",
      "$$u_i^{n+1} = u_i^{n} - c \\frac{\\Delta t}{\\Delta x}(u_i^{n} - u_i^{n-1})$$"
     ]
    },
    {
     "cell_type": "heading",
     "level": 4,
     "metadata": {},
     "source": [
      "\u00c9crire un script qui effectue les calculs et les actions suivantes :"
     ]
    },
    {
     "cell_type": "markdown",
     "metadata": {},
     "source": [
      "1) Il d\u00e9finit une grille de $N=81$ points r\u00e9guli\u00e8rement espac\u00e9s  dans un domaine spatial qui fait $2\\ m$ de longueur, c'est-\u00e0-dire $x \\in [0,2\\ m]$. Il d\u00e9finit ainsi la variable $\\Delta x$ comme la distance entre deux points adjacents de la grille.\n",
      "\n",
      "2) Il met en place les conditions initiales suivantes. La condition initiale $u_0$ a la valeur $u = 2$ (en unit\u00e9s arbitraires, dans la suite $u.a.$) dans l'intervalle $0.5 \\ m  \u2264 x \u2264 1 \\ m$ et $u = 1 \\ (u.a.)$ partout ailleurs dans $[0,2\\ m]$ (c'est-\u00e0-dire une fonction chapeau). \n",
      "\n",
      "3) Il trace un graphique de la condition initiale.\n",
      "\n",
      "4) Il d\u00e9finit une fonction pour calculer $u$  au pas de temps futur ($n+1$) \u00e0 partir de la valeur de $u$ au pas de temps pr\u00e9sent ($n$). La valeur affecte \u00e0 la variable pas de temps sera $\\Delta t = 0.25\\ s$\n",
      "\n",
      "5) Il trace sur le m\u00eame graphique que celui utilis\u00e9 pour la condition initiale (mais avec une autre couleur) la fonction $u$ au temps $t=6.25\\ s$."
     ]
    },
    {
     "cell_type": "heading",
     "level": 5,
     "metadata": {},
     "source": [
      "Quelques operations utiles sur les arrays de $numpy$"
     ]
    },
    {
     "cell_type": "markdown",
     "metadata": {},
     "source": [
      "Le fonctionnement de la fonction $ones()$ est analogue \u00e0 celui de la fonction $zeros()$ qu'on a d\u00e9j\u00e0 rencontr\u00e9, voir l'exemple suivant: "
     ]
    },
    {
     "cell_type": "code",
     "collapsed": false,
     "input": [
      "import numpy as np\n",
      "\n",
      "np.ones(10)      # fonction ones() pour un array de 10 \u00e9l\u00e9ments"
     ],
     "language": "python",
     "metadata": {},
     "outputs": [
      {
       "metadata": {},
       "output_type": "pyout",
       "prompt_number": 40,
       "text": [
        "array([ 1.,  1.,  1.,  1.,  1.,  1.,  1.,  1.,  1.,  1.])"
       ]
      }
     ],
     "prompt_number": 40
    },
    {
     "cell_type": "markdown",
     "metadata": {},
     "source": [
      "Il est possible de faire des cycles implicites sur les arrays de $numpy$, comme dans l'exemple suivant. Cette op\u00e9ration permet de manipuler toute une partie d'un array en m\u00eame temps, sans devoir recourir \u00e0 une boucle explicite (de type $for$ ou $while$)."
     ]
    },
    {
     "cell_type": "code",
     "collapsed": false,
     "input": [
      "import numpy as np\n",
      "\n",
      "a = np.array([1,10])\n",
      "a = [1,2,3,4,5,6,7,8,9,10]\n",
      "b = a[2:7]\n",
      "print(\"a = \")\n",
      "print(a)\n",
      "print(\"b = \")\n",
      "print(b)"
     ],
     "language": "python",
     "metadata": {},
     "outputs": [
      {
       "output_type": "stream",
       "stream": "stdout",
       "text": [
        "a = \n",
        "[1, 2, 3, 4, 5, 6, 7, 8, 9, 10]\n",
        "b = \n",
        "[3, 4, 5, 6, 7]\n"
       ]
      }
     ],
     "prompt_number": 41
    },
    {
     "cell_type": "markdown",
     "metadata": {},
     "source": [
      "Pour copier les \u00e9l\u00e9ments d'un arrays dans un autre array, il est possible de travailler comme dans les exemples suivants. "
     ]
    },
    {
     "cell_type": "code",
     "collapsed": false,
     "input": [
      "import numpy as np\n",
      "\n",
      "a=np.array([1, 2, 3, 4, 5])\n",
      "print(\"a = \")\n",
      "print(a)\n",
      "\n",
      "b=a.copy()      # premi\u00e8re m\u00e9thode\n",
      "print(\"b = \")\n",
      "print(b)\n",
      "\n",
      "c=np.copy(a)   # seconde m\u00e9thode\n",
      "print(\"c = \")\n",
      "print(c)\n"
     ],
     "language": "python",
     "metadata": {},
     "outputs": [
      {
       "output_type": "stream",
       "stream": "stdout",
       "text": [
        "a = \n",
        "[1 2 3 4 5]\n",
        "b = \n",
        "[1 2 3 4 5]\n",
        "c = \n",
        "[1 2 3 4 5]\n"
       ]
      }
     ],
     "prompt_number": 42
    },
    {
     "cell_type": "code",
     "collapsed": false,
     "input": [
      "from IPython.core.display import HTML\n",
      "def css_styling():\n",
      "    styles = open('custom.css', 'r').read()\n",
      "    return HTML(styles)\n",
      "css_styling()"
     ],
     "language": "python",
     "metadata": {},
     "outputs": [
      {
       "html": [
        "<link href='http://fonts.googleapis.com/css?family=Fenix' rel='stylesheet' type='text/css'>\n",
        "<link href='http://fonts.googleapis.com/css?family=Alegreya+Sans:100,300,400,500,700,800,900,100italic,300italic,400italic,500italic,700italic,800italic,900italic' rel='stylesheet' type='text/css'>\n",
        "<link href='http://fonts.googleapis.com/css?family=Source+Code+Pro:300,400' rel='stylesheet' type='text/css'>\n",
        "<style>\n",
        "    @font-face {\n",
        "        font-family: \"Computer Modern\";\n",
        "        src: url('http://mirrors.ctan.org/fonts/cm-unicode/fonts/otf/cmunss.otf');\n",
        "    }\n",
        "    div.cell{\n",
        "        width:800px;\n",
        "        margin-left:16% !important;\n",
        "        margin-right:auto;\n",
        "    }\n",
        "    h1 {\n",
        "        font-family: 'Alegreya Sans', sans-serif;\n",
        "    }\n",
        "    h2 {\n",
        "        font-family: 'Fenix', serif;\n",
        "    }\n",
        "    h3{\n",
        "\tfont-family: 'Fenix', serif;\n",
        "        margin-top:12px;\n",
        "        margin-bottom: 3px;\n",
        "       }\n",
        "       h4{\n",
        "\tfont-family: 'Fenix', serif;\n",
        "       }\n",
        "    h5 {\n",
        "        font-family: 'Alegreya Sans', sans-serif;\n",
        "    }   \n",
        "    h6 {\n",
        "        font-family: 'Alegreya Sans', sans-serif;\n",
        "    }\n",
        "\n",
        "    div.text_cell_render{\n",
        "        font-family: 'Alegreya Sans',Computer Modern, \"Helvetica Neue\", Arial, Helvetica, Geneva, sans-serif;\n",
        "        line-height: 135%;\n",
        "        font-size: 130%;\n",
        "        width:600px;\n",
        "        margin-left:auto;\n",
        "        margin-right:auto;\n",
        "    }\n",
        "    .CodeMirror{\n",
        "            font-family: \"Source Code Pro\";\n",
        "\t    \t\t \t font-size: 90%;\n",
        "    }\n",
        "/*    .prompt{\n",
        "        display: None;\n",
        "    }*/\n",
        "    .text_cell_render h1 {\n",
        "        font-weight: 200;\n",
        "        font-size: 40pt;\n",
        "        line-height: 100%;\n",
        "        color:#CD2305;\n",
        "        margin-bottom: 0.5em;\n",
        "        margin-top: 0.5em;\n",
        "        display: block;\n",
        "    }\t\n",
        "    .text_cell_render h5 {\n",
        "        font-weight: 300;\n",
        "        font-size: 16pt;\n",
        "        color: #CD2305;\n",
        "        font-style: italic;\n",
        "        margin-bottom: .5em;\n",
        "        margin-top: 0.5em;\n",
        "        display: block;\n",
        "    }\n",
        "    .text_cell_render h6 {\n",
        "        font-weight: 400;\n",
        "        font-size: 15pt;\n",
        "        color: #00b35a;\n",
        "        font-style: normal;\n",
        "        margin-bottom: .1em;\n",
        "        margin-top: 0.1em;\n",
        "        display: block;\n",
        "    }\n",
        "\n",
        "    \n",
        "    .warning{\n",
        "        color: rgb( 240, 20, 20 )\n",
        "        }  \n",
        "</style>\n",
        "<script>\n",
        "    MathJax.Hub.Config({\n",
        "                        TeX: {\n",
        "                           extensions: [\"AMSmath.js\"]\n",
        "                           },\n",
        "                tex2jax: {\n",
        "                    inlineMath: [ ['$','$'], [\"\\\\(\",\"\\\\)\"] ],\n",
        "                    displayMath: [ ['$$','$$'], [\"\\\\[\",\"\\\\]\"] ]\n",
        "                },\n",
        "                displayAlign: 'center', // Change this to 'center' to center equations.\n",
        "                \"HTML-CSS\": {\n",
        "                    styles: {'.MathJax_Display': {\"margin\": 4}}\n",
        "                }\n",
        "        });\n",
        "</script>"
       ],
       "metadata": {},
       "output_type": "pyout",
       "prompt_number": 1,
       "text": [
        "<IPython.core.display.HTML at 0x110ddfad0>"
       ]
      }
     ],
     "prompt_number": 1
    }
   ],
   "metadata": {}
  }
 ]
}