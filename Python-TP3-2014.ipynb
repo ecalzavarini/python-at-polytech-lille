{
 "metadata": {
  "name": "",
  "signature": "sha256:a6256dbdfc6fe7be450e2436621c6171cd62469e4baf49e186d07202783fc8d7"
 },
 "nbformat": 3,
 "nbformat_minor": 0,
 "worksheets": [
  {
   "cells": [
    {
     "cell_type": "heading",
     "level": 5,
     "metadata": {},
     "source": [
      "TP 3 -- Informatique CM3 -- Octobre 2014 "
     ]
    },
    {
     "cell_type": "heading",
     "level": 1,
     "metadata": {},
     "source": [
      "Python @ Polytech'Lille"
     ]
    },
    {
     "cell_type": "markdown",
     "metadata": {},
     "source": [
      "Le texte de cette sessions de travaux pratiques est \u00e9galement disponible ici\n",
      "http://nbviewer.ipython.org/github/ecalzavarini/python-at-polytech-lille/blob/master/Python-TP3-2014.ipynb"
     ]
    },
    {
     "cell_type": "markdown",
     "metadata": {},
     "source": [
      "Nous vous rappelons que les modalit\u00e9s pour accomplir ce TP :\n",
      "\n",
      "Vous aurez \u00e0 \u00e9crire plusieurs scripts (script1.py , script2.py , ...). Les scripts doivent \u00eatre accompagn\u00e9s par un document descriptif unique (README.txt). Dans ce fichier, vous devrez d\u00e9crire le mode de fonctionnement des scripts et, si besoin, mettre vos commentaires. Merci d'y \u00e9crire aussi vos noms et prenoms complets.\n",
      "Tous les fichiers doivent etre mis dans un dossier appel\u00e9 TP1-nom1-nom2 et ensuite \u00eatre compress\u00e9s dans un fichier archive TP1-nom1-nom2.tgz .\n",
      "Enfin vous allez envoyer ce fichier par email \u00e0 l'enseignant: soit Enrico (enrico.calzavarini@polytech-lille.fr) ou Stefano (stefano.berti@polytech-lille.fr).\n",
      "\n",
      "Vous avez une semaine de temps pour compl\u00e9ter le TP, c'est-\u00e0-dire que la date limite pour envoyer vos travaux c'est le jour avant le TP suivant."
     ]
    },
    {
     "cell_type": "heading",
     "level": 5,
     "metadata": {},
     "source": [
      "Tracer le graphique d'un champ vectoriel en deux dimensions"
     ]
    },
    {
     "cell_type": "code",
     "collapsed": false,
     "input": [
      "%matplotlib inline \n",
      "\n",
      "import matplotlib.pylab as plt\n",
      "import numpy as np\n",
      "from math import *\n",
      "\n",
      "x = np.arange(0,2*pi,0.2)\n",
      "y = np.arange(0,2*pi,0.2)\n",
      "\n",
      "# np.meshgrid, produit une matrices de coordonn\u00e9es \u00e0 partir de deux vecteurs. \n",
      "X,Y = np.meshgrid(x,y) \n",
      "\n",
      "#d\u00e9finition du champ vectoriel\n",
      "U = np.sin(Y)*np.cos(Y)\n",
      "V = -np.cos(X)*np.sin(X)\n",
      "\n",
      "C =  ( U**2. + V**2. )**.5 # calcul du module de la vitesse\n",
      "\n",
      "plt.figure( figsize=(10,10) )  # taille de la figure : 8 x 8 pouces\n",
      "\n",
      "plt.quiver( X, Y, U, V , C , scale = 20.)\n",
      "\n",
      "plt.axis([0, 2*pi, 0, 2*pi])\n",
      "plt.axes().set_aspect(1)\n",
      "\n",
      "plt.show()"
     ],
     "language": "python",
     "metadata": {},
     "outputs": []
    },
    {
     "cell_type": "heading",
     "level": 3,
     "metadata": {},
     "source": [
      "Script 1 "
     ]
    },
    {
     "cell_type": "markdown",
     "metadata": {},
     "source": [
      "\u00c9crire  un script qui effectue les calculs et actions suivantes :\n",
      "\n",
      "a) trace le graphique d'un champ de deformation de type cisaillement, c'est-\u00e0-dire  \n",
      "\n",
      "$$ {\\bf u} = \\left( \\begin{array}{c}\n",
      "\\partial_x u_x   \\\\\n",
      "\\partial_x u_y  \\end{array} \\right) =  \n",
      "\\left( \\begin{array}{c}\n",
      "\\gamma \\ y   \\\\\n",
      "0  \\end{array} \\right)$$\n",
      "\n",
      "\n",
      "ou  $\\gamma$ est la deformation, ici suppos\u00e9e constante.\n",
      "\n",
      "b) calcule la matrice gradient de deformation pour l'\u00e9coulement : \n",
      "$$ \\nabla u =  \\left( \\begin{array}{cc}\n",
      "\\partial_x u_x & \\partial_y u_x  \\\\\n",
      "\\partial_x u_y & \\partial_y u_y \\end{array} \\right) $$.\n",
      "\n",
      "c) d\u00e9compose cette matrice dans sa partie sym\u00e9trique ($D$) et dans sa partie antisym\u00e9trique ($A$) :\n",
      "\n",
      "$$ S = \\frac{1}{2}\\left(\\nabla u  + (\\nabla u )^T \\right) $$\n",
      "\n",
      "$$ A = \\frac{1}{2}\\left(\\nabla u  - (\\nabla u )^T \\right) $$\n",
      "\n",
      "d) calcule le champ de deformation correspondant \u00e0 $S$ et $A$, appell\u00e9s respectivement $u_S$ et $u_A$\n",
      "\n",
      "e) trace les graphiques de deux nouveaux champs de deformation, $u_S$ et $u_A$. \n",
      "\n",
      "f) enfin, trace le graphique de la somme de $u_S$ et $u_A$.\n",
      "\n",
      "Qu'apprenons-nous des ces quatre graphiques ?\n",
      "\n",
      "Dans les courses de m\u00e9canique des milieux continus, on entend souvent dire qu'une d\u00e9formation de type cisaillement est \u00e9quivalente \u00e0 la somme d'une rotation et d'un \u00e9tirement (elongation et compression). \n",
      "Avec ce script, vous montrerez d'une fa\u00e7on graphique, que cette affirmation est bien v\u00e9rifi\u00e9e."
     ]
    },
    {
     "cell_type": "heading",
     "level": 3,
     "metadata": {},
     "source": [
      "Script 2 : Transport du vecteur vitesse"
     ]
    },
    {
     "cell_type": "markdown",
     "metadata": {},
     "source": [
      "On veut faire un script qui met en oeuvre une relation notable de la m\u00e9canique des corps rigides : la formule de composition (ou transport) du vecteur vitesse entre deux points $A$ et $B$ :"
     ]
    },
    {
     "cell_type": "markdown",
     "metadata": {},
     "source": [
      "$$\\vec{\\bf V}(B) = \\vec{\\bf V}(A) + \\vec{\\bf \\Omega} \\wedge \\vec{\\bf AB}$$"
     ]
    },
    {
     "cell_type": "markdown",
     "metadata": {},
     "source": [
      "Plus pr\u00e9cis\u00e9ment, le script devra demander \u00e0 l'utilisateur les coordonn\u00e9es du point $A$ et $ B$, la vitesse en $A$ ainsi que le vecteur rotation entre les deux points $\\vec{\\bf \\Omega}$. Il calculera le vectur vitesse en $B$ et l'intensit\u00e9 $|\\vec{\\bf V}|$. "
     ]
    },
    {
     "cell_type": "markdown",
     "metadata": {},
     "source": [
      "Ecrivez par vous-m\u00eame les deux fonctions qui effectuent le produit scalaire et le produit vectoriel de deux vecterus, m\u00eame si, comme vous pouvez l'imaginer, $numpy$ poss\u00e8de deja des fonctions de ce type tr\u00e8s pratique a utiliser:"
     ]
    },
    {
     "cell_type": "code",
     "collapsed": false,
     "input": [
      "import numpy as np\n",
      "\n",
      "a = np.array([1,2,3])\n",
      "b = np.array([0,1,5])\n",
      "\n",
      "np.dot(a,b) # produit scalaire"
     ],
     "language": "python",
     "metadata": {},
     "outputs": [
      {
       "metadata": {},
       "output_type": "pyout",
       "prompt_number": 22,
       "text": [
        "17"
       ]
      }
     ],
     "prompt_number": 22
    },
    {
     "cell_type": "code",
     "collapsed": false,
     "input": [
      "np.cross(a,b) # produit vectoriel"
     ],
     "language": "python",
     "metadata": {},
     "outputs": [
      {
       "metadata": {},
       "output_type": "pyout",
       "prompt_number": 25,
       "text": [
        "array([ 7, -5,  1])"
       ]
      }
     ],
     "prompt_number": 25
    },
    {
     "cell_type": "markdown",
     "metadata": {},
     "source": [
      "V\u00e9rifiez que votre script est correct en utilisant les fonctions ci-dessus."
     ]
    },
    {
     "cell_type": "heading",
     "level": 3,
     "metadata": {},
     "source": [
      "Script 3 : Propagation des ondes"
     ]
    },
    {
     "cell_type": "markdown",
     "metadata": {},
     "source": [
      "L'\u00e9quation de convection lin\u00e9aire est une mod\u00e8le de base d\u00e9crivant la propagation d'une \n",
      "perturbation (tel qu'une vague ou une vibration) dans un milieu \u00e0 dissipation n\u00e9gligeable : \n",
      "\n",
      "$$ \\frac{\\partial u}{\\partial t} + c \\frac{ \\partial u}{\\partial x} = 0$$\n",
      "\n",
      "Si la condition initiale (entendu comme la forme de la perturbation initiale) est $u(x, t=0) = u_0 (x)$ , on peut montrer que la solution exacte de l'\u00e9quation est $u (x, t) = u_0 (x-ct)$, c'est-\u00e0-dire que la perturbation se propage sans changement de forme avec une vitesse $c$.\n",
      "\n",
      "Nous discr\u00e9tisons cette \u00e9quation dans l'espace et le temps, en utilisant le sch\u00e9ma de diff\u00e9rence finies en avant pour la d\u00e9riv\u00e9e temporelle et le sch\u00e9ma de diff\u00e9rence finie en arri\u00e8re pour le d\u00e9riv\u00e9 par rapport \u00e0 l'espace. Pensez \u00e0 la discr\u00e9tisation des coordonn\u00e9es spatiales $x$ en points d\u00e9sign\u00e9s par un indice $i$ qui varie de $0$ \u00e0 $N$, et la disct\u00e9risation temporelle par intervalles de temps discrets de taille $\\Delta t$. \n",
      "\n",
      "De la d\u00e9finition d'un d\u00e9riv\u00e9 (en supprimant tout simplement la limite), nous savons que:\n",
      "\n",
      "$$\\frac{\\partial u}{\\partial x} \\simeq \\frac{u(x+\\Delta x) - u(x)}{\\Delta x} $$\n",
      "\n",
      "Notre \u00e9quation discr\u00e8te, alors, est:\n",
      "\n",
      "$$\\frac{u_i^{n+1} - u_i^{n}}{\\Delta t} + c \\frac{u_i^{n+1} - u_{i-1}^{n}}{\\Delta x} = 0$$\n",
      "\n",
      "O\u00f9 $n$ et $n + 1$ sont deux \u00e9tapes cons\u00e9cutives dans le temps, tandis que $i-1$ et $i$ sont deux points voisins de la coordonn\u00e9e discr\u00e9tis\u00e9 $x$. Si on donne les conditions initiales, la seule inconnue dans cette discr\u00e9tisation est $u_i^{n+1}$. Nous pouvons r\u00e9soudre pour notre inconnu pour obtenir une \u00e9quation qui nous permet d'avancer dans le temps, comme suit:\n",
      "\n",
      "\n",
      "$$u_i^{n+1} = u_i^{n} - c \\frac{\\Delta t}{\\Delta x}(u_i^{n} - u_i^{n-1})$$"
     ]
    },
    {
     "cell_type": "heading",
     "level": 4,
     "metadata": {},
     "source": [
      "\u00c9crire un script qui effectue les calculs et les actions suivantes :"
     ]
    },
    {
     "cell_type": "markdown",
     "metadata": {},
     "source": [
      "1) il d\u00e9finit une grille de $N=81$ points r\u00e9guli\u00e8rement espac\u00e9s  dans un domaine spatial qui fait $2\\ m$ de longueur, c'est-\u00e0-dire $x \\in [0\\ m,2\\ m)$. Il definit ainsi la variable $\\Delta x$ la distance entre toute paire de points de grille adjacents.\n",
      "\n",
      "2) il mette en place les conditions initiales suivantes. La condition initiale $u_0$ a la valeur $u = 2\\ (u.a.)$ dans l'intervalle $0.5 \\ m  \u2264 x \u2264 1 \\ m$ et $u = 1 \\ (u.a.)$ partout ailleurs dans [0 \\ m,2\\ m) (i.e. une fonction chapeau). \n",
      "\n",
      "3) trace un graphique de la condition initiale.\n",
      "\n",
      "4) il d\u00e9finit une fonction pour calculer $u$  au pas de temps suivante. Il affecte la variable pas de temps $\\Delta t = 0.25\\ s$\n",
      "\n",
      "5) trace sur le m\u00eame graphique que avant (mais dans un autre couleur) la fonction $u$ au temps $T=6.25\\ s$."
     ]
    },
    {
     "cell_type": "code",
     "collapsed": false,
     "input": [
      "from IPython.core.display import HTML\n",
      "def css_styling():\n",
      "    styles = open('custom.css', 'r').read()\n",
      "    return HTML(styles)\n",
      "css_styling()"
     ],
     "language": "python",
     "metadata": {},
     "outputs": [
      {
       "html": [
        "<link href='http://fonts.googleapis.com/css?family=Fenix' rel='stylesheet' type='text/css'>\n",
        "<link href='http://fonts.googleapis.com/css?family=Alegreya+Sans:100,300,400,500,700,800,900,100italic,300italic,400italic,500italic,700italic,800italic,900italic' rel='stylesheet' type='text/css'>\n",
        "<link href='http://fonts.googleapis.com/css?family=Source+Code+Pro:300,400' rel='stylesheet' type='text/css'>\n",
        "<style>\n",
        "    @font-face {\n",
        "        font-family: \"Computer Modern\";\n",
        "        src: url('http://mirrors.ctan.org/fonts/cm-unicode/fonts/otf/cmunss.otf');\n",
        "    }\n",
        "    div.cell{\n",
        "        width:800px;\n",
        "        margin-left:16% !important;\n",
        "        margin-right:auto;\n",
        "    }\n",
        "    h1 {\n",
        "        font-family: 'Alegreya Sans', sans-serif;\n",
        "    }\n",
        "    h2 {\n",
        "        font-family: 'Fenix', serif;\n",
        "    }\n",
        "    h3{\n",
        "\tfont-family: 'Fenix', serif;\n",
        "        margin-top:12px;\n",
        "        margin-bottom: 3px;\n",
        "       }\n",
        "       h4{\n",
        "\tfont-family: 'Fenix', serif;\n",
        "       }\n",
        "    h5 {\n",
        "        font-family: 'Alegreya Sans', sans-serif;\n",
        "    }   \n",
        "    h6 {\n",
        "        font-family: 'Alegreya Sans', sans-serif;\n",
        "    }\n",
        "\n",
        "    div.text_cell_render{\n",
        "        font-family: 'Alegreya Sans',Computer Modern, \"Helvetica Neue\", Arial, Helvetica, Geneva, sans-serif;\n",
        "        line-height: 135%;\n",
        "        font-size: 130%;\n",
        "        width:600px;\n",
        "        margin-left:auto;\n",
        "        margin-right:auto;\n",
        "    }\n",
        "    .CodeMirror{\n",
        "            font-family: \"Source Code Pro\";\n",
        "\t    \t\t \t font-size: 90%;\n",
        "    }\n",
        "/*    .prompt{\n",
        "        display: None;\n",
        "    }*/\n",
        "    .text_cell_render h1 {\n",
        "        font-weight: 200;\n",
        "        font-size: 40pt;\n",
        "        line-height: 100%;\n",
        "        color:#CD2305;\n",
        "        margin-bottom: 0.5em;\n",
        "        margin-top: 0.5em;\n",
        "        display: block;\n",
        "    }\t\n",
        "    .text_cell_render h5 {\n",
        "        font-weight: 300;\n",
        "        font-size: 16pt;\n",
        "        color: #CD2305;\n",
        "        font-style: italic;\n",
        "        margin-bottom: .5em;\n",
        "        margin-top: 0.5em;\n",
        "        display: block;\n",
        "    }\n",
        "    .text_cell_render h6 {\n",
        "        font-weight: 400;\n",
        "        font-size: 15pt;\n",
        "        color: #00b35a;\n",
        "        font-style: normal;\n",
        "        margin-bottom: .1em;\n",
        "        margin-top: 0.1em;\n",
        "        display: block;\n",
        "    }\n",
        "\n",
        "    \n",
        "    .warning{\n",
        "        color: rgb( 240, 20, 20 )\n",
        "        }  \n",
        "</style>\n",
        "<script>\n",
        "    MathJax.Hub.Config({\n",
        "                        TeX: {\n",
        "                           extensions: [\"AMSmath.js\"]\n",
        "                           },\n",
        "                tex2jax: {\n",
        "                    inlineMath: [ ['$','$'], [\"\\\\(\",\"\\\\)\"] ],\n",
        "                    displayMath: [ ['$$','$$'], [\"\\\\[\",\"\\\\]\"] ]\n",
        "                },\n",
        "                displayAlign: 'center', // Change this to 'center' to center equations.\n",
        "                \"HTML-CSS\": {\n",
        "                    styles: {'.MathJax_Display': {\"margin\": 4}}\n",
        "                }\n",
        "        });\n",
        "</script>"
       ],
       "metadata": {},
       "output_type": "pyout",
       "prompt_number": 1,
       "text": [
        "<IPython.core.display.HTML at 0x110ddfad0>"
       ]
      }
     ],
     "prompt_number": 1
    }
   ],
   "metadata": {}
  }
 ]
}