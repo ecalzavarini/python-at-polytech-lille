{
 "metadata": {
  "name": "",
  "signature": "sha256:806f9b9bf707347c273eed9f4ca6303c4358ce7a947c073a2fabeb923304f0ca"
 },
 "nbformat": 3,
 "nbformat_minor": 0,
 "worksheets": [
  {
   "cells": [
    {
     "cell_type": "heading",
     "level": 5,
     "metadata": {},
     "source": [
      "TP 1 -- Informatique CM3 -- Septembre 2014 "
     ]
    },
    {
     "cell_type": "heading",
     "level": 1,
     "metadata": {},
     "source": [
      "Python @ Polytech'Lille"
     ]
    },
    {
     "cell_type": "heading",
     "level": 5,
     "metadata": {},
     "source": [
      "Introduction aux commandes Linux"
     ]
    },
    {
     "cell_type": "markdown",
     "metadata": {},
     "source": [
      "Avant d'entreprendre notre introduction au langage de programmation Python, nous devons familiariser avec l'environnement du systeme d'explotation Linux. \n",
      "\n",
      "La premi\u00e8re \u00e9tape est d'apprendre les commandes de la \"shell\" les plus courants qui peuvent \u00eatre tap\u00e9s sur une console Linux.\n",
      "\n",
      "Pour savoir comment acc\u00e9der \u00e0 une console sur la distribution Linux Debian dont vous disposez, voir:  https://wiki.debian.org/fr/Console ou simplement recherchez l'application \"terminal\" sur le menu des applications."
     ]
    },
    {
     "cell_type": "heading",
     "level": 4,
     "metadata": {},
     "source": [
      "La commande pwd\n"
     ]
    },
    {
     "cell_type": "markdown",
     "metadata": {},
     "source": [
      "La commande \"pwd\" affiche le r\u00e9pertoire courant, c'est a dire le r\u00e9pertoire o\u00f9 l'on se trouve au moment o\u00f9 on tape la commande."
     ]
    },
    {
     "cell_type": "heading",
     "level": 4,
     "metadata": {},
     "source": [
      "La commande ls"
     ]
    },
    {
     "cell_type": "markdown",
     "metadata": {},
     "source": [
      "La commande \"ls\" permet de lister ce que contient un r\u00e9pertoire.\n",
      "Il y a plusieurs mani\u00e8res de l'utiliser :\n",
      "\n",
      "\"ls\" donne la liste brute de ce qui se trouve dans le r\u00e9pertoire\n",
      "\n",
      "\"ls -l\" donne la liste de ce qui se trouve dans le r\u00e9pertoire avec des informations \tcompl\u00e9mentaires (droits de lecture, \u00e9criture et ex\u00e9cution, propri\u00e9taire, taille, date de cr\u00e9ation ou de derni\u00e8re modification).\n",
      "\n",
      "\"ls -a\" liste tous (penser au mot \"all\") les fichiers du r\u00e9pertoire, y compris les fichiers cach\u00e9s. Cette option est tr\u00e8s utile lorsque l'on se trouve dans son r\u00e9pertoire personnel car il contient les fichiers de configuration de l'utilisateur dont les noms commencent g\u00e9n\u00e9ralement par un point et seule l'option -a permet de d\u00e9tecter leur existence."
     ]
    },
    {
     "cell_type": "heading",
     "level": 4,
     "metadata": {},
     "source": [
      "La commande mkdir"
     ]
    },
    {
     "cell_type": "markdown",
     "metadata": {},
     "source": [
      "La commande \"mkdir\" permet de cr\u00e9er un r\u00e9pertoire.\n",
      "\n",
      "\"mkdir nom_repertoire\" cr\u00e9e le r\u00e9pertoire ayant pour nom nom_repertoire."
     ]
    },
    {
     "cell_type": "heading",
     "level": 4,
     "metadata": {},
     "source": [
      "La commande cd"
     ]
    },
    {
     "cell_type": "markdown",
     "metadata": {},
     "source": [
      "La commande \"cd\" permet de se d\u00e9placer dans l'arborescence de repertoires. Il y a plusieurs mani\u00e8res de l'utiliser : \n",
      "\n",
      "\"cd nom_repertoire\" permet d'aller dans le r\u00e9pertoire nom_repertoire\n",
      "\n",
      "\"cd ..\" permet de retourner dans le r\u00e9pertoire parent (i.e. Celui qui est au-dessus dans \tl'arborescence de r\u00e9pertoires)."
     ]
    },
    {
     "cell_type": "heading",
     "level": 4,
     "metadata": {},
     "source": [
      "L'\u00e9diteur de texte emacs"
     ]
    },
    {
     "cell_type": "markdown",
     "metadata": {},
     "source": [
      "Pour cr\u00e9er ou modifier un fichier \"emacs -nw nom_fichier.txt\"\n",
      "\n",
      "Pour sauvegarder tapez la combinaison de touches suivante: Ctrl-x Ctrl-s.\n",
      "\n",
      "Pour quitter emacs: Ctrl-x Ctrl-c."
     ]
    },
    {
     "cell_type": "heading",
     "level": 4,
     "metadata": {},
     "source": [
      "La commande rm"
     ]
    },
    {
     "cell_type": "markdown",
     "metadata": {},
     "source": [
      "La commande \"rm\" permet de supprimer un fichier :\n",
      "\n",
      "\"rm nom_fichier\" supprime le fichier nom_fichier si il se trouve dans le r\u00e9pertoire courant.\n",
      "\n",
      "\"rm \u2013r\" supprime un r\u00e9pertoire et ses sous r\u00e9pertoires."
     ]
    },
    {
     "cell_type": "heading",
     "level": 4,
     "metadata": {},
     "source": [
      "La commande top "
     ]
    },
    {
     "cell_type": "markdown",
     "metadata": {},
     "source": [
      "La commande \"top\" affiche en continu des informations d\u00e9crivant l'activit\u00e9 du syst\u00e8me. Elle permet surtout de suivre les ressources que les processus utilisent (quantit\u00e9 de m\u00e9moire, pourcentage de CPU...).\n",
      "Sous top il est possible d'exp\u00e9dier de mani\u00e8re interactive un signal \u00e0 un processus, par exemple afin de le stopper, en tapant \"k\".\n",
      "top demande ensuite quel signal il doit envoyer et 15 (SIGTERM) est le signal par d\u00e9faut qui met fin \u00e0 un processus, 9 (SIGKILL) est beaucoup plus brutal et \u00e0 \u00e9viter.\n",
      "Pour quitter top, appuyer simplement sur la touche \"q\"."
     ]
    },
    {
     "cell_type": "heading",
     "level": 4,
     "metadata": {},
     "source": [
      "Archivage de donn\u00e9es (tar)"
     ]
    },
    {
     "cell_type": "markdown",
     "metadata": {},
     "source": [
      "La commande \"tar\" g\u00e8re des archives, contenant chacune au moins un r\u00e9pertoire ou fichier.\n",
      "\n",
      "Vous aurez souvent besoin de \"tar xzf nom_du_fichier.tar.gz\" , qui d\u00e9compacte une archive au format .tar.gz ou .tgz.\n",
      "L'extension .tar.gz ou .tgz indique que le fichier est une archive tar et qu'il est compact\u00e9.\n",
      "Les arguments employ\u00e9s dans la commande pr\u00e9c\u00e9dente (\u00ab xzf \u00bb) peuvent \u00eatre ainsi compris:\n",
      "x (extraction) d\u00e9clenche l'extraction de certains fichiers d'une archive (lorsque l'on ne sp\u00e9cifie pas les noms des fichiers que l'on souhaite extraire de l'archive, tar les extrait tous)\n",
      "z d\u00e9compacte l'archive gr\u00e2ce \u00e0 la commande gzip\n",
      "f traite un fichier-archive dont le nom suit (ici: \u00ab nom_du_fichier.tar.gz \u00bb)\n",
      "\n",
      "Si je me trouve dans le r\u00e9pertoire \u00ab \u00ab /home/delcros/ \u00bb \u00bb la commande suivante cr\u00e9era une archive du r\u00e9pertoire \u00ab /home/delcros/personnel \u00bb: \n",
      "\"tar cvzf personnel.tgz personnel\"\n",
      "c tar va cr\u00e9er une archive\n",
      "z tar compacte l'archive gr\u00e2ce \u00e0 gzip"
     ]
    },
    {
     "cell_type": "markdown",
     "metadata": {},
     "source": [
      "Questions  : \n",
      "Ouvrir une fen\u00eatre de type terminal, ic\u00f4ne \u00e9cran+coquillage\n",
      "1) Taper pwd, ls puis ls -l dans la console.\n",
      "2) Cr\u00e9er un r\u00e9pertoire TPSCILAB dans le r\u00e9pertoire courant. Comment v\u00e9rifier qu'il a bien \u00e9t\u00e9 cr\u00e9\u00e9 ?\n",
      "3) Aller dans le r\u00e9pertoire que vous venez de cr\u00e9er, puis lister ce qu'il contient. Quelle commande vous permet de savoir si vous \u00eates bien dans le r\u00e9pertoire TPSCILAB ?\n",
      "4) Cr\u00e9er un fichier dans le r\u00e9pertoire TPSCILAB avec la commande emacs, taper quelques lignes dedans. Enregistrer le ficher. V\u00e9rifier qu'il a bien \u00e9t\u00e9 cr\u00e9\u00e9.\n",
      "5) Cr\u00e9er un fichier-archive du repertoire TPSCILAB\n",
      "5) Supprimer le fichier que vous venez de cr\u00e9er, comment v\u00e9rifier qu'il a bien \u00e9t\u00e9 supprim\u00e9 ?\n",
      "6) Supprimer le r\u00e9pertoire TPSCILAB. V\u00e9rifier qu'il a bien \u00e9t\u00e9 supprim\u00e9.\n",
      "7) Lancer le logiciel \u2018Scilab\u2019.Supposons maintenant que, pour une raison quelconque, le programme est bloqu\u00e9. Tuez le programme Scilab en utilisant la commande top. \n"
     ]
    },
    {
     "cell_type": "heading",
     "level": 1,
     "metadata": {},
     "source": [
      "Introduction \u00e0 la programmation num\u00e9rique en Python"
     ]
    },
    {
     "cell_type": "markdown",
     "metadata": {},
     "source": [
      "Pour lancer l'interpr\u00e8te du langage Python \u00e9crire \"python\" dans la consolle de Linux.\n",
      "\n",
      "Saisir votre s\u00e9rie d'instruction Python apr\u00e8s l'invite de la ligne de commande \">>>\" (\u00e0 noter que chaque instruction doit \u00eatre valid\u00e9e avec la touche \"return\").\n",
      "\n",
      "Une deuxi\u00e8me possibilit\u00e9 d'utilisation est de cr\u00e9er un fichier (appel\u00e9 script), par exemple avec l'\u00e9diteur de text emacs : \"emacs -nw script.py\"\n",
      "\n",
      "Une fois que les instructions ont \u00e9t\u00e9 \u00e9crites dans ce fichier, le script peut \u00eatre ex\u00e9cut\u00e9 avec la commande \"python script.py\"."
     ]
    },
    {
     "cell_type": "heading",
     "level": 2,
     "metadata": {},
     "source": [
      "Biblioth\u00e8que de Python"
     ]
    },
    {
     "cell_type": "markdown",
     "metadata": {},
     "source": [
      "Python est un langage open-source de haut niveau. Mais l'univers de Python dispose de nombreuses biblioth\u00e8ques qui fournissent des fonctionnalit\u00e9s avanc\u00e9es comme la possibilt\u00e9 d'effectuer des op\u00e9rations sur des matrices, des fonctions graphiques, et bien plus encore. Nous pouvons donc importer ces biblioth\u00e8ques de fonctions pour \u00e9tendre les capacit\u00e9s de Python dans nos programmes.\n",
      "\n",
      "Nous allons commencer par l'importation de quelques biblioth\u00e8ques pour nous aider. Premi\u00e8rement: notre biblioth\u00e8que pr\u00e9f\u00e9r\u00e9e est NumPy (Numerical Python), fournissant un grande nombre d'op\u00e9rations matricieles utiles (cette biblioth\u00e8que est similaire \u00e0 MATLAB ). Nous allons l'utiliser beaucoup! \n",
      "\n",
      "La documentation de numpy se trouve ici : http://docs.scipy.org/doc/numpy/reference/\n",
      "\n",
      "La deuxi\u00e8me biblioth\u00e8que dont nous avons besoin est Matplotlib, une biblioth\u00e8que de graphyque 2D que nous allons utiliser pour tracer nos r\u00e9sultats.\n",
      "\n",
      "La documentation de r\u00e9f\u00e9rence est disponible ici : http://matplotlib.org/contents.html\n",
      "\n",
      "La troisi\u00e8me biblioth\u00e8que que nous utilisons est Math, la biblioth\u00e8que math\u00e9matique standard qui comprend les fonctions trigonom\u00e9triques et transcendantales, ainsi que  d'autres fonctions sp\u00e9ciales.\n",
      "\n",
      "Pour voir la liste complete des fonctions de la biblioth\u00e8que Math:\n",
      "https://docs.python.org/2/library/math.html#module-math\n",
      "\n",
      "Le code suivant sera au sommet de la plupart de vos programmes :"
     ]
    },
    {
     "cell_type": "code",
     "collapsed": false,
     "input": [
      "# <-- comments in python are denoted by the pound sign, like this one\n",
      "\n",
      "import numpy as np                 # we import the array library, and call it 'np'\n",
      "import matplotlib.pyplot as plt    # import plotting library, and call it 'plt'\n",
      "from math import *                 # importing all functions from the math library"
     ],
     "language": "python",
     "metadata": {},
     "outputs": [],
     "prompt_number": 1
    },
    {
     "cell_type": "markdown",
     "metadata": {},
     "source": [
      "Nous importons donc une biblioth\u00e8que nomm\u00e9e \"numpy\" et nous importons un module appel\u00e9 \"pyplot\" d'une grande biblioth\u00e8que appel\u00e9e \"matplotlib\". Enfin nous importons toutes les fonctions de la biblioth\u00e8que \"math\"\n",
      "\n",
      "Les deux premieres lignes ci-dessus ont cr\u00e9\u00e9 des raccourcis pour les biblioth\u00e8ques tel que \"np\" et \"plt\" respectivement. La raison de la cr\u00e9ation des raccourcis, c'est que nous avons besoin de taper les noms de biblioth\u00e8que assez souvent dans le code.\n",
      "Pour utiliser une fonction appartenant \u00e0 l'une de ces biblioth\u00e8ques, nous devons dire \u00e0 Python o\u00f9 la chercher. Pour cela, chaque nom de fonction est \u00e9crit apr\u00e8s le nom de la biblioth\u00e8que, avec un point entre les deux. Par exemple :"
     ]
    },
    {
     "cell_type": "code",
     "collapsed": false,
     "input": [
      "np.zeros(5)"
     ],
     "language": "python",
     "metadata": {},
     "outputs": [
      {
       "metadata": {},
       "output_type": "pyout",
       "prompt_number": 2,
       "text": [
        "array([ 0.,  0.,  0.,  0.,  0.])"
       ]
      }
     ],
     "prompt_number": 2
    },
    {
     "cell_type": "heading",
     "level": 2,
     "metadata": {},
     "source": [
      "L'affectation de donn\u00e9es dans des variables"
     ]
    },
    {
     "cell_type": "markdown",
     "metadata": {},
     "source": [
      "L'affectation permet d'attribuer une valeur \u00e0 une variable designee par son identificateur. Un identificateur est une suite de lettres et chiffres (sans espaces) qui doit \u00eatre choisi judicieusement pour que l'algorithme soit imm\u00e9diatement lisible et interpretable."
     ]
    },
    {
     "cell_type": "code",
     "collapsed": false,
     "input": [
      "a = 5.0 \n",
      "b , c = 10 , 3\n",
      "name = \"Mark\""
     ],
     "language": "python",
     "metadata": {},
     "outputs": [],
     "prompt_number": 3
    },
    {
     "cell_type": "markdown",
     "metadata": {},
     "source": [
      "Ici \"a\" , \"b\" , \"c\" et \"name\" sont des identificateurs (ou simplement des variables). \n",
      "\n",
      "Python ne n\u00e9cessite pas de d\u00e9clarer explicitement les types de variables, comme C et d'autres langages par exemple. Juste affectez une variable et Python comprendera ce que vous voulez. \n",
      "\n",
      "Vous pouvez demander \u00e0 Python de vous dire de quel type il a attribu\u00e9 \u00e0 vos variables:"
     ]
    },
    {
     "cell_type": "code",
     "collapsed": false,
     "input": [
      "type(a) "
     ],
     "language": "python",
     "metadata": {},
     "outputs": [
      {
       "metadata": {},
       "output_type": "pyout",
       "prompt_number": 4,
       "text": [
        "float"
       ]
      }
     ],
     "prompt_number": 4
    },
    {
     "cell_type": "code",
     "collapsed": false,
     "input": [
      "type(b) "
     ],
     "language": "python",
     "metadata": {},
     "outputs": [
      {
       "metadata": {},
       "output_type": "pyout",
       "prompt_number": 5,
       "text": [
        "int"
       ]
      }
     ],
     "prompt_number": 5
    },
    {
     "cell_type": "code",
     "collapsed": false,
     "input": [
      "type(name)"
     ],
     "language": "python",
     "metadata": {},
     "outputs": [
      {
       "metadata": {},
       "output_type": "pyout",
       "prompt_number": 6,
       "text": [
        "str"
       ]
      }
     ],
     "prompt_number": 6
    },
    {
     "cell_type": "markdown",
     "metadata": {},
     "source": [
      "Portez une attention particuli\u00e8re \u00e0 l'attribution de valeurs \u00e0 virgule flottante \u00e0 des variables ou vous pouvez obtenir les valeurs que vous ne vous attendez pas \u00e0 vos programmes . Par exemple ,"
     ]
    },
    {
     "cell_type": "markdown",
     "metadata": {},
     "source": [
      "Vous voyez , si vous divisez un nombre entier par un nombre entier , Python retourne une r\u00e9ponse arrondie \u00e0 l'entier le plus proche . Mais si vous voulez une r\u00e9ponse \u00e0 virgule flottante , l'un des num\u00e9ros doit \u00eatre un flotteur . Ajoutant simplement un point d\u00e9cimal fera l'affaire :"
     ]
    },
    {
     "cell_type": "heading",
     "level": 2,
     "metadata": {},
     "source": [
      "La lecture (ou entr\u00e9e) des donn\u00e9es"
     ]
    },
    {
     "cell_type": "markdown",
     "metadata": {},
     "source": [
      "La lecture de donn\u00e9es peut se faire par interrogation de l'utilisateur "
     ]
    },
    {
     "cell_type": "code",
     "collapsed": false,
     "input": [
      "p = input(\"Entrer la valeur de la precision p, p =\")"
     ],
     "language": "python",
     "metadata": {},
     "outputs": [
      {
       "name": "stdout",
       "output_type": "stream",
       "stream": "stdout",
       "text": [
        "Entrer la valeur de la precision p, p =1\n"
       ]
      }
     ],
     "prompt_number": 7
    },
    {
     "cell_type": "heading",
     "level": 2,
     "metadata": {},
     "source": [
      "L'ecriture (ou sortie) des donn\u00e9es"
     ]
    },
    {
     "cell_type": "markdown",
     "metadata": {},
     "source": [
      "L'\u00e9criture des donn\u00e9es permet d'afficher, pour l'utilisateur, les valeurs des variables apr\u00e8s traitement."
     ]
    },
    {
     "cell_type": "code",
     "collapsed": false,
     "input": [
      "print(a)"
     ],
     "language": "python",
     "metadata": {},
     "outputs": [
      {
       "output_type": "stream",
       "stream": "stdout",
       "text": [
        "5.0\n"
       ]
      }
     ],
     "prompt_number": 8
    },
    {
     "cell_type": "markdown",
     "metadata": {},
     "source": [
      "Avec \"print\" nous pouvons aussi afficher du text :"
     ]
    },
    {
     "cell_type": "code",
     "collapsed": false,
     "input": [
      "print(\"f doit changer de signe !\")"
     ],
     "language": "python",
     "metadata": {},
     "outputs": [
      {
       "output_type": "stream",
       "stream": "stdout",
       "text": [
        "f doit changer de signe !\n"
       ]
      }
     ],
     "prompt_number": 9
    },
    {
     "cell_type": "heading",
     "level": 3,
     "metadata": {},
     "source": [
      "Les instructions ou structures de controle"
     ]
    },
    {
     "cell_type": "heading",
     "level": 4,
     "metadata": {},
     "source": [
      "Structure alternative"
     ]
    },
    {
     "cell_type": "code",
     "collapsed": false,
     "input": [
      "d = b**2-4*a*c\n",
      "\n",
      "if d > 0 :\n",
      "    x1 = (-b - sqrt(d))/(2*a)\n",
      "    x2 = (-b + sqrt(d))/(2*a)\n",
      "    print(\"RESULTATS :\")\n",
      "    print(\"Deux racines distinctes : x1 = \" + str(x1) + \" et x2 = \" + str(x2))\n",
      "elif d == 0 :\n",
      "    x1 = -b/(2*a)\n",
      "    print(\"RESULTATS :\")\n",
      "    print(\"Une racine double : x1 = \" + str(x1))\n",
      "else :\n",
      "    print(\"RESULTATS :\")\n",
      "    print(\"Aucune solution!\")    "
     ],
     "language": "python",
     "metadata": {},
     "outputs": [
      {
       "output_type": "stream",
       "stream": "stdout",
       "text": [
        "RESULTATS :\n",
        "Deux racines distinctes : x1 = -1.63245553203 et x2 = -0.367544467966\n"
       ]
      }
     ],
     "prompt_number": 10
    },
    {
     "cell_type": "heading",
     "level": 3,
     "metadata": {},
     "source": [
      "Les structures repetitives"
     ]
    },
    {
     "cell_type": "markdown",
     "metadata": {},
     "source": [
      "Structure boucle \" for \"  :"
     ]
    },
    {
     "cell_type": "code",
     "collapsed": false,
     "input": [
      "# Exemple 1 : structure repetitive de 1 a n\n",
      "\n",
      "n =10\n",
      "t = 0 \n",
      "\n",
      "for k in range(1,n+1) :\n",
      "    x = np.random.rand()\n",
      "    y = (1-x)*np.random.rand()\n",
      "    z = 1 -x - y\n",
      "    if x < 0.5 and y < 0.5 and z < 0.5 :\n",
      "        t = t + 1\n",
      "        print(t)"
     ],
     "language": "python",
     "metadata": {},
     "outputs": [
      {
       "output_type": "stream",
       "stream": "stdout",
       "text": [
        "1\n",
        "2\n"
       ]
      }
     ],
     "prompt_number": 17
    },
    {
     "cell_type": "markdown",
     "metadata": {},
     "source": [
      "Ci-dessus notez \u00e9galement l'utilisation de la fonction \"np.random.rand()\" pour la g\u00e9n\u00e9ration  de nombres al\u00e9atoires avec la biblioth\u00e8que numpy. Pour plus d'information sur ce module : http://docs.scipy.org/doc/numpy/reference/routines.random.html"
     ]
    },
    {
     "cell_type": "markdown",
     "metadata": {},
     "source": [
      "Structure boucle \" while \" :"
     ]
    },
    {
     "cell_type": "code",
     "collapsed": false,
     "input": [
      "# Exemple 2 : structure repetitive avec une condition \n",
      "\n",
      "p = 0.1\n",
      "x = np.random.rand()\n",
      "\n",
      "while (b - a) > p :\n",
      "    m = (a+b) / 2\n",
      "    if a*m < 0 :\n",
      "        b = m\n",
      "        print b    \n",
      "    else :\n",
      "        a = m\n",
      "        print a\n"
     ],
     "language": "python",
     "metadata": {},
     "outputs": [],
     "prompt_number": 25
    },
    {
     "cell_type": "heading",
     "level": 3,
     "metadata": {},
     "source": [
      "Indentation necessaire en langage Python"
     ]
    },
    {
     "cell_type": "markdown",
     "metadata": {},
     "source": [
      "Pour les structures de controle du langage Python, il n'y a pas de mot cle \"end\" pour signaler la fin du bloc de lignes concernees par les structures \"if\",\"while\",\"for\".\n",
      "Il faut par contre indenter les lignes (c'est a dire creer des decalages a l'aide de la touche tabulation \"tab\" du clavier) afin de definir une dependance d'un bloc de lignes par rapport a un autre."
     ]
    },
    {
     "cell_type": "heading",
     "level": 3,
     "metadata": {},
     "source": [
      "Exemple de script : le tri par s\u00e9lection"
     ]
    },
    {
     "cell_type": "code",
     "collapsed": false,
     "input": [
      "# Tri par s\u00e9lection\n",
      "# Donn\u00e9es initiales \n",
      "Liste = input(\"Entrer la liste des n valeurs a trier : [a1,a2,...,an] = \")\n",
      "M = eval(Liste)\n",
      "N = len(M)\n",
      "\n",
      "#Programme \n",
      "for i in range(0,N-1):\n",
      "    for j in range(i+1,N):\n",
      "        val_temp = M[i]\n",
      "        M[i] = M[j]\n",
      "        M[j] = val_temp\n",
      "print(\"Liste tri\u00e9e :\")\n",
      "print(M)"
     ],
     "language": "python",
     "metadata": {},
     "outputs": [
      {
       "name": "stdout",
       "output_type": "stream",
       "stream": "stdout",
       "text": [
        "Entrer la liste des n valeurs a trier : [a1,a2,...,an] = [7,5,3,8,4,3,1]\n"
       ]
      },
      {
       "ename": "TypeError",
       "evalue": "eval() arg 1 must be a string or code object",
       "output_type": "pyerr",
       "traceback": [
        "\u001b[0;31m---------------------------------------------------------------------------\u001b[0m\n\u001b[0;31mTypeError\u001b[0m                                 Traceback (most recent call last)",
        "\u001b[0;32m<ipython-input-26-9710061dffb0>\u001b[0m in \u001b[0;36m<module>\u001b[0;34m()\u001b[0m\n\u001b[1;32m      2\u001b[0m \u001b[0;31m# Donn\u00e9es initiales\u001b[0m\u001b[0;34m\u001b[0m\u001b[0;34m\u001b[0m\u001b[0m\n\u001b[1;32m      3\u001b[0m \u001b[0mListe\u001b[0m \u001b[0;34m=\u001b[0m \u001b[0minput\u001b[0m\u001b[0;34m(\u001b[0m\u001b[0;34m\"Entrer la liste des n valeurs a trier : [a1,a2,...,an] = \"\u001b[0m\u001b[0;34m)\u001b[0m\u001b[0;34m\u001b[0m\u001b[0m\n\u001b[0;32m----> 4\u001b[0;31m \u001b[0mM\u001b[0m \u001b[0;34m=\u001b[0m \u001b[0meval\u001b[0m\u001b[0;34m(\u001b[0m\u001b[0mListe\u001b[0m\u001b[0;34m)\u001b[0m\u001b[0;34m\u001b[0m\u001b[0m\n\u001b[0m\u001b[1;32m      5\u001b[0m \u001b[0mN\u001b[0m \u001b[0;34m=\u001b[0m \u001b[0mlen\u001b[0m\u001b[0;34m(\u001b[0m\u001b[0mM\u001b[0m\u001b[0;34m)\u001b[0m\u001b[0;34m\u001b[0m\u001b[0m\n\u001b[1;32m      6\u001b[0m \u001b[0;34m\u001b[0m\u001b[0m\n",
        "\u001b[0;31mTypeError\u001b[0m: eval() arg 1 must be a string or code object"
       ]
      }
     ],
     "prompt_number": 26
    },
    {
     "cell_type": "heading",
     "level": 6,
     "metadata": {},
     "source": [
      "Question : pouvez-vous \u00e9crire maintenant un script qui effectue le tri \u00e0 bulle de la meme  liste?\n",
      "\n",
      "Conseil : voir http://fr.wikipedia.org/wiki/Tri_\u00e0_bulles"
     ]
    },
    {
     "cell_type": "heading",
     "level": 3,
     "metadata": {},
     "source": [
      "Tracer des courbes"
     ]
    },
    {
     "cell_type": "code",
     "collapsed": false,
     "input": [
      "%matplotlib inline  \n",
      "\n",
      "x=np.linspace(-5,5,100)\n",
      "plt.plot(x,np.sin(x))  # on utilise la fonction sinus de Numpy\n",
      "plt.plot(x,np.cos(x))  \n",
      "plt.ylabel('fonction sinus')\n",
      "plt.xlabel(\"l'axe des abcisses\")\n",
      "plt.show()"
     ],
     "language": "python",
     "metadata": {},
     "outputs": [
      {
       "metadata": {},
       "output_type": "display_data",
       "png": "[encoded data removed]",
       "text": [
        "<matplotlib.figure.Figure at 0x10bedb910>"
       ]
      }
     ],
     "prompt_number": 18
    },
    {
     "cell_type": "heading",
     "level": 3,
     "metadata": {},
     "source": [
      "Changer le style des courbes"
     ]
    },
    {
     "cell_type": "code",
     "collapsed": false,
     "input": [
      "%matplotlib inline  \n",
      "\n",
      "t1=np.linspace(0,5,10)\n",
      "t2=np.linspace(0,5,20)\n",
      "plt.plot(t1, t1, 'r--', t1, t1**2, 'bs', t2, t2**3, 'g^-')"
     ],
     "language": "python",
     "metadata": {},
     "outputs": [
      {
       "metadata": {},
       "output_type": "pyout",
       "prompt_number": 19,
       "text": [
        "[<matplotlib.lines.Line2D at 0x10c163ad0>,\n",
        " <matplotlib.lines.Line2D at 0x10c163d50>,\n",
        " <matplotlib.lines.Line2D at 0x10c170410>]"
       ]
      },
      {
       "metadata": {},
       "output_type": "display_data",
       "png": "[encoded data removed]",
       "text": [
        "<matplotlib.figure.Figure at 0x10bedb790>"
       ]
      }
     ],
     "prompt_number": 19
    },
    {
     "cell_type": "heading",
     "level": 3,
     "metadata": {},
     "source": [
      "Un histogramme et un affichage de texte sur le graphique"
     ]
    },
    {
     "cell_type": "code",
     "collapsed": false,
     "input": [
      "%matplotlib inline\n",
      "\n",
      "mu, sigma = 100, 15\n",
      "x = mu + sigma * np.random.randn(10000)\n",
      "#  histogramme des donn\\'es\n",
      "n, bins, patches = plt.hist(x, 50, normed=1, facecolor='g', alpha=0.75)\n",
      "plt.xlabel('Donn\\'ees')\n",
      "plt.ylabel('Probabilite')\n",
      "plt.title('Histogramme')\n",
      "plt.text(60, .025, r'$\\mu=100,\\ \\sigma=15$')\n",
      "plt.axis([40, 160, 0, 0.03])\n",
      "plt.grid(True)"
     ],
     "language": "python",
     "metadata": {},
     "outputs": [
      {
       "metadata": {},
       "output_type": "display_data",
       "png": "[encoded data removed]",
       "text": [
        "<matplotlib.figure.Figure at 0x10bedb250>"
       ]
      }
     ],
     "prompt_number": 20
    },
    {
     "cell_type": "heading",
     "level": 3,
     "metadata": {},
     "source": [
      "Juxtaposer diff\u00e9rents graphiques"
     ]
    },
    {
     "cell_type": "code",
     "collapsed": false,
     "input": [
      "%matplotlib inline\n",
      "\n",
      "def f(t):\n",
      "   return np.exp(-t) * np.cos(2*np.pi*t)\n",
      "\n",
      "t1 = np.arange(0.0, 5.0, 0.1)\n",
      "t2 = np.arange(0.0, 5.0, 0.02)\n",
      "plt.figure(1)\n",
      "plt.subplot(221)\n",
      "plt.plot(t1, f(t1), 'bo', t2, f(t2), 'k')\n",
      "plt.subplot(222)\n",
      "plt.plot(t2, np.cos(2*np.pi*t2), 'r--')\n",
      "plt.subplot(223)\n",
      "plt.plot(t2, np.sin(2*np.pi*t2), 'b-')"
     ],
     "language": "python",
     "metadata": {},
     "outputs": [
      {
       "metadata": {},
       "output_type": "pyout",
       "prompt_number": 21,
       "text": [
        "[<matplotlib.lines.Line2D at 0x10c00d050>]"
       ]
      },
      {
       "metadata": {},
       "output_type": "display_data",
       "png": "[encoded data removed]",
       "text": [
        "<matplotlib.figure.Figure at 0x10c281b50>"
       ]
      }
     ],
     "prompt_number": 21
    },
    {
     "cell_type": "heading",
     "level": 6,
     "metadata": {},
     "source": [
      "Ignorez la cellule ci-dessous. Elle charge notre style d'affichage pour ce document."
     ]
    },
    {
     "cell_type": "code",
     "collapsed": false,
     "input": [
      "from IPython.core.display import HTML\n",
      "def css_styling():\n",
      "    styles = open('custom.css', 'r').read()\n",
      "    return HTML(styles)\n",
      "css_styling()"
     ],
     "language": "python",
     "metadata": {},
     "outputs": [
      {
       "html": [
        "<link href='http://fonts.googleapis.com/css?family=Fenix' rel='stylesheet' type='text/css'>\n",
        "<link href='http://fonts.googleapis.com/css?family=Alegreya+Sans:100,300,400,500,700,800,900,100italic,300italic,400italic,500italic,700italic,800italic,900italic' rel='stylesheet' type='text/css'>\n",
        "<link href='http://fonts.googleapis.com/css?family=Source+Code+Pro:300,400' rel='stylesheet' type='text/css'>\n",
        "<style>\n",
        "    @font-face {\n",
        "        font-family: \"Computer Modern\";\n",
        "        src: url('http://mirrors.ctan.org/fonts/cm-unicode/fonts/otf/cmunss.otf');\n",
        "    }\n",
        "    div.cell{\n",
        "        width:800px;\n",
        "        margin-left:16% !important;\n",
        "        margin-right:auto;\n",
        "    }\n",
        "    h1 {\n",
        "        font-family: 'Alegreya Sans', sans-serif;\n",
        "    }\n",
        "    h2 {\n",
        "        font-family: 'Fenix', serif;\n",
        "    }\n",
        "    h3{\n",
        "\tfont-family: 'Fenix', serif;\n",
        "        margin-top:12px;\n",
        "        margin-bottom: 3px;\n",
        "       }\n",
        "       h4{\n",
        "\tfont-family: 'Fenix', serif;\n",
        "       }\n",
        "    h5 {\n",
        "        font-family: 'Alegreya Sans', sans-serif;\n",
        "    }\t   \n",
        "    div.text_cell_render{\n",
        "        font-family: 'Alegreya Sans',Computer Modern, \"Helvetica Neue\", Arial, Helvetica, Geneva, sans-serif;\n",
        "        line-height: 135%;\n",
        "        font-size: 120%;\n",
        "        width:600px;\n",
        "        margin-left:auto;\n",
        "        margin-right:auto;\n",
        "    }\n",
        "    .CodeMirror{\n",
        "            font-family: \"Source Code Pro\";\n",
        "\t    \t\t \t font-size: 90%;\n",
        "    }\n",
        "/*    .prompt{\n",
        "        display: None;\n",
        "    }*/\n",
        "    .text_cell_render h1 {\n",
        "        font-weight: 200;\n",
        "        font-size: 50pt;\n",
        "\t\t   line-height: 100%;\n",
        "        color:#CD2305;\n",
        "        margin-bottom: 0.5em;\n",
        "        margin-top: 0.5em;\n",
        "        display: block;\n",
        "    }\t\n",
        "    .text_cell_render h5 {\n",
        "        font-weight: 300;\n",
        "        font-size: 16pt;\n",
        "        color: #CD2305;\n",
        "        font-style: italic;\n",
        "        margin-bottom: .5em;\n",
        "        margin-top: 0.5em;\n",
        "        display: block;\n",
        "    }\n",
        "    \n",
        "    .warning{\n",
        "        color: rgb( 240, 20, 20 )\n",
        "        }  \n",
        "</style>\n",
        "<script>\n",
        "    MathJax.Hub.Config({\n",
        "                        TeX: {\n",
        "                           extensions: [\"AMSmath.js\"]\n",
        "                           },\n",
        "                tex2jax: {\n",
        "                    inlineMath: [ ['$','$'], [\"\\\\(\",\"\\\\)\"] ],\n",
        "                    displayMath: [ ['$$','$$'], [\"\\\\[\",\"\\\\]\"] ]\n",
        "                },\n",
        "                displayAlign: 'center', // Change this to 'center' to center equations.\n",
        "                \"HTML-CSS\": {\n",
        "                    styles: {'.MathJax_Display': {\"margin\": 4}}\n",
        "                }\n",
        "        });\n",
        "</script>"
       ],
       "metadata": {},
       "output_type": "pyout",
       "prompt_number": 22,
       "text": [
        "<IPython.core.display.HTML at 0x10c0b5e50>"
       ]
      }
     ],
     "prompt_number": 22
    }
   ],
   "metadata": {}
  }
 ]
}