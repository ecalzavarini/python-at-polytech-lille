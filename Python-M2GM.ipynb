{
 "cells": [
  {
   "cell_type": "markdown",
   "metadata": {},
   "source": [
    "##### Master 2 Genie Mécanique - \n",
    "###### UE : Optimisation des structures\n",
    "###### Enseignant: Enrico Calzavarini enrico.calzavarini@polytech-lille.fr"
   ]
  },
  {
   "cell_type": "markdown",
   "metadata": {},
   "source": [
    "# Introduction à Python "
   ]
  },
  {
   "cell_type": "markdown",
   "metadata": {},
   "source": [
    "Le texte de cette session de travaux pratiques est également disponible ici: \n",
    "\n",
    "https://github.com/ecalzavarini/python-at-polytech-lille/blob/master/Python-M2GM.ipynb"
   ]
  },
  {
   "cell_type": "markdown",
   "metadata": {},
   "source": [
    "## Introduction aux commandes Linux"
   ]
  },
  {
   "cell_type": "markdown",
   "metadata": {},
   "source": [
    "Avant de commencer avec notre introduction au langage de programmation $Python$, nous devons familiariser avec l'environnement du système d'explotation $Linux$. \n",
    "\n",
    "La première étape est d'apprendre les commandes les plus courantes. Ces commandes peuvent être tapées sur une console Linux.\n",
    "\n",
    "Pour savoir comment accéder à une console sur la distribution Linux Debian dont vous disposez, voir:  https://wiki.debian.org/fr/Console ou simplement recherchez l'application \"terminal\" sur le menu des applications."
   ]
  },
  {
   "cell_type": "markdown",
   "metadata": {},
   "source": [
    "#### La commande pwd:"
   ]
  },
  {
   "cell_type": "markdown",
   "metadata": {},
   "source": [
    "La commande \"pwd\" affiche le répertoire courant, c'est à dire le répertoire où l'on se trouve au moment où on tape la commande."
   ]
  },
  {
   "cell_type": "markdown",
   "metadata": {},
   "source": [
    "#### La commande ls:"
   ]
  },
  {
   "cell_type": "markdown",
   "metadata": {},
   "source": [
    "La commande \"ls\" permet de lister ce que contient un répertoire.\n",
    "Il y a plusieurs manières de l'utiliser :\n",
    "\n",
    "\"ls\" donne la liste brute de ce qui se trouve dans le répertoire\n",
    "\n",
    "\"ls -l\" donne la liste de ce qui se trouve dans le répertoire avec des informations \tcomplémentaires (droits de lecture, écriture et exécution, propriétaire, taille, date de création ou de dernière modification).\n",
    "\n",
    "\"ls -a\" liste tous (pensez au mot \"all\") les fichiers du répertoire, y compris les fichiers cachés. Cette option est très utile lorsque l'on se trouve dans son répertoire personnel car il contient les fichiers de configuration de l'utilisateur dont les noms commencent généralement par un point et seule l'option -a permet de détecter leur existence."
   ]
  },
  {
   "cell_type": "markdown",
   "metadata": {},
   "source": [
    "#### La commande mkdir:"
   ]
  },
  {
   "cell_type": "markdown",
   "metadata": {},
   "source": [
    "La commande \"mkdir\" permet de créer un répertoire (ou dossier).\n",
    "\n",
    "\"mkdir Nom_repertoire\" crée le répertoire ayant pour nom Nom_repertoire. \n",
    "\n",
    "Par convention, les noms des dossiers sous Linux sont choisis commencer par une lettre majuscule. "
   ]
  },
  {
   "cell_type": "markdown",
   "metadata": {},
   "source": [
    "#### La commande cd:"
   ]
  },
  {
   "cell_type": "markdown",
   "metadata": {},
   "source": [
    "La commande \"cd\" permet de se déplacer dans l'arborescence de repertoires. Il y a plusieurs manières de l'utiliser : \n",
    "\n",
    "\"cd Nom_repertoire\" permet d'aller dans le répertoire Nom_repertoire\n",
    "\n",
    "\"cd ..\" permet de retourner dans le répertoire parent (celui qui est au-dessus dans l'arborescence de répertoires)."
   ]
  },
  {
   "cell_type": "markdown",
   "metadata": {},
   "source": [
    "#### L'éditeur de texte emacs:"
   ]
  },
  {
   "cell_type": "markdown",
   "metadata": {},
   "source": [
    "Pour créer ou modifier un fichier \"emacs -nw nom_fichier.txt\", ou \"emacs nom_fichier.txt\" pour acceder à la version graphique de l'editeur de texte.\n",
    "\n",
    "Pour sauvegarder tapez la combinaison de touches suivante: Ctrl-x Ctrl-s.\n",
    "\n",
    "Pour quitter emacs: Ctrl-x Ctrl-c.\n",
    "\n",
    "\n",
    "D'autres éditeurs de texte sont disponibles sous Linux, par exemple \"vi\" , \"pico\", \"nedit\" . Chacun d'entre eux possède sa propre interface (graphique ou non) et ses propres commandes. Ils effectuent tous les mêmes tâches, il est important d'apprendre à bien en utiliser au moins un."
   ]
  },
  {
   "cell_type": "markdown",
   "metadata": {},
   "source": [
    "#### La commande rm:"
   ]
  },
  {
   "cell_type": "markdown",
   "metadata": {},
   "source": [
    "La commande \"rm\" permet de supprimer un fichier :\n",
    "\n",
    "\"rm nom_fichier\" supprime le fichier nom_fichier si il se trouve dans le répertoire courant. Par convention, les fichiers ont des noms commençant par une lettre minuscule.\n",
    "\n",
    "\"rm –r Nom_repertoire\" supprime un répertoire et ses sous répertoires."
   ]
  },
  {
   "cell_type": "markdown",
   "metadata": {},
   "source": [
    "#### La commande top: "
   ]
  },
  {
   "cell_type": "markdown",
   "metadata": {},
   "source": [
    "La commande \"top\" affiche en continu des informations décrivant l'activité du système. Elle permet surtout de suivre les ressources que les processus utilisent (quantité de mémoire, pourcentage de CPU...).\n",
    "Sous top il est possible d'expédier de manière interactive un signal à un processus, par exemple afin de le stopper, en tapant \"k\", top demande ensuite l'identifiant (PID) du processus concerné.\n",
    "Pour quitter top, appuyer simplement sur la touche \"q\".\n",
    "\n",
    "Une autre commande utile pour arrêter un programme est \"kill\", son utilisation typique est la suivante \"kill -9 PID\" où PID est le nom du processus concerné. Pour trouver le PID du processus, on peut utiliser \"top\" comme dit précédemment ou la commande \"ps -u nom_utilisateur\" (ps signifie processus)."
   ]
  },
  {
   "cell_type": "markdown",
   "metadata": {},
   "source": [
    "#### Archivage de données (tar):"
   ]
  },
  {
   "cell_type": "markdown",
   "metadata": {},
   "source": [
    "La commande \"tar\" gère des archives, contenant chacune au moins un répertoire ou fichier.\n",
    "\n",
    "Vous aurez souvent besoin de \"tar xzf nom_du_fichier.tar.gz\" , qui décompacte une archive au format .tar.gz ou .tgz .\n",
    "L'extension .tar.gz ou .tgz indique que le fichier est une archive tar et qu'il est compacté.\n",
    "Les arguments (aussi appelés options) employés dans la commande précédente (\"xzf\") peuvent être ainsi compris:\n",
    "\n",
    "x (extraction) déclenche l'extraction de certains fichiers d'une archive (lorsque l'on ne spécifie pas les noms des fichiers que l'on souhaite extraire de l'archive, tar les extrait tous)\n",
    "\n",
    "z décompacte l'archive grâce à la commande gzip\n",
    "\n",
    "f traite un fichier-archive dont le nom suit (ici: \"nom_du_fichier.tar.gz\")\n",
    "\n",
    "Si je me trouve dans le répertoire \"/home/delcros/\" la commande suivante créera une archive du répertoire \"/home/delcros/personnel\" : \n",
    "\n",
    "\"tar cvzf personnel.tgz personnel\"\n",
    "\n",
    "l'option \"c\" permet de créer une archive\n",
    "\n",
    "L'option \"z\" compacte l'archive grâce à gzip."
   ]
  },
  {
   "cell_type": "markdown",
   "metadata": {},
   "source": [
    "#### Questions  : "
   ]
  },
  {
   "cell_type": "markdown",
   "metadata": {},
   "source": [
    "1) Ouvrir une consolle Linux et créer un répertoire TP-PYTHON dans le répertoire courant. Comment vérifier qu'il a bien été créé ?"
   ]
  },
  {
   "cell_type": "markdown",
   "metadata": {},
   "source": [
    "2) Aller dans le répertoire que vous venez de créer, puis lister ce qu'il contient. Quelle commande vous permet de savoir si vous êtes bien dans le répertoire TP-PYTHON ?\n"
   ]
  },
  {
   "cell_type": "markdown",
   "metadata": {},
   "source": [
    "3) Créer un fichier appelé README.txt dans le répertoire TP-PYTHON avec la commande \"emacs\", taper quelques lignes dedans. Enregistrer le ficher. Vérifier qu'il a bien été créé."
   ]
  },
  {
   "cell_type": "markdown",
   "metadata": {},
   "source": [
    "4) Créer un fichier-archive du repertoire TP-PYTHON."
   ]
  },
  {
   "cell_type": "markdown",
   "metadata": {},
   "source": [
    "5) Supprimer le fichier que vous venez de créer, comment vérifier qu'il a bien été supprimé ?"
   ]
  },
  {
   "cell_type": "markdown",
   "metadata": {},
   "source": [
    "6) Supprimer le répertoire TP-PYTHON. Vérifier qu'il a bien été supprimé.\n"
   ]
  },
  {
   "cell_type": "markdown",
   "metadata": {},
   "source": [
    "## Introduction à la programmation numérique en Python"
   ]
  },
  {
   "cell_type": "markdown",
   "metadata": {},
   "source": [
    "Pour lancer l'interprète du langage Python écrire \"python3\" dans la consolle de Linux.\n",
    "\n",
    "Saisir votre série d'instructions Python après l'invite de la ligne de commande \">>>\" (à noter que chaque instruction doit être validée avec la touche \"return\").\n",
    "\n"
   ]
  },
  {
   "cell_type": "markdown",
   "metadata": {},
   "source": [
    "Une deuxième possibilité d'utilisation beaucoup plus pratique est de créer un fichier (appelé script), par exemple avec l'éditeur de text emacs : \"emacs -nw script.py\" ou \"emac script.py\"(pour lancer la version avec interface graphique).\n",
    "\n",
    "\n",
    "Une fois que les instructions ont été écrites dans ce fichier, le script peut être exécuté avec la commande \"python3 script.py\".\n"
   ]
  },
  {
   "cell_type": "markdown",
   "metadata": {},
   "source": [
    "\n",
    "\n",
    "\n",
    "Une troisième possibilité est d'utiliser un environnement de développement intégré (IDE) pour Python. Il en existe de nombreux : \n",
    "- SPYDER https://www.spyder-ide.org/\n",
    "- PYCHARM https://www.jetbrains.com/pycharm/\n",
    "- THONNY https://thonny.org/\n",
    "\n",
    "voir aussi la page de Wikipedia https://en.wikipedia.org/wiki/Comparison_of_integrated_development_environments#Python\n",
    "\n",
    "\n",
    "Enfin $Jupyter$ $notebook$ est un environnement de programmation interactif basé sur le Web\n",
    "https://jupyter.org/ \n",
    "C'est avec ce dernier outil que le présent TP est rédigé."
   ]
  },
  {
   "cell_type": "markdown",
   "metadata": {},
   "source": [
    "\n",
    "$Documentation$: \n",
    "\n",
    "Le site le plus utile pour trouver des informations sur python est :\n",
    "https://docs.python.org/3/  \n",
    "voir notamment dans les sections \"Tutorial\" et \"Language reference\".\n",
    "\n",
    "Un autre site utile : https://pythonbasics.org/\n"
   ]
  },
  {
   "cell_type": "markdown",
   "metadata": {},
   "source": [
    "       "
   ]
  },
  {
   "cell_type": "markdown",
   "metadata": {},
   "source": [
    "### Modalités pour accomplir le TP et compte rendu "
   ]
  },
  {
   "cell_type": "markdown",
   "metadata": {},
   "source": [
    "\n",
    "\n",
    "Pendant ce TP vous aurez à écrire plusieurs scripts (nous vous suggérons de les nommer script1.py, script2.py, ...). \n",
    "Les scripts doivent être accompagnés par un document descriptif unique (README.txt). \n",
    "Dans ce fichier, vous devrez décrire le mode de fonctionnement des scripts et, si besoin, mettre vos commentaires.\n",
    "Merci d'y écrires aussi vos nomes et prénoms complets. Tous les fichiers doivent être mis dans un dossier appelé TP1-nom_prenom et ensuite être compressés dans un fichier TP1-nom_prenom.tgz ou TP1-nom_prenom.zip .\n",
    "\n",
    "Enfin vous allez envoyer ce fichier par email à l'enseignant : enrico.calzavarini@polytech-lille.fr\n"
   ]
  },
  {
   "cell_type": "markdown",
   "metadata": {},
   "source": [
    "#### Vous avez une semaine de temps pour compléter le TP, c'est-à-dire que la date limite pour envoyer vos travaux c'est dans 7 jours à partir d'aujourd'hui. "
   ]
  },
  {
   "cell_type": "markdown",
   "metadata": {},
   "source": [
    "## Script 1 :  entrer ou afficher du texte et  des données "
   ]
  },
  {
   "cell_type": "markdown",
   "metadata": {},
   "source": [
    "\n",
    "Nous voulons écrire un script qui tout d'abord affiche simplement une message de bienvenue :"
   ]
  },
  {
   "cell_type": "code",
   "execution_count": 48,
   "metadata": {},
   "outputs": [
    {
     "name": "stdout",
     "output_type": "stream",
     "text": [
      "Bienvenue au TP de Python\n"
     ]
    }
   ],
   "source": [
    "print(\"Bienvenue au TP de Python\")"
   ]
  },
  {
   "cell_type": "markdown",
   "metadata": {},
   "source": [
    "Vérifiez que le programme ci-dessus fonctionne quand il est écrit dans un script (appelé par exemple script1.py) et interprété par python avec la commande \"python script1.py\"."
   ]
  },
  {
   "cell_type": "markdown",
   "metadata": {},
   "source": [
    "Nous souhaitons maintenant que ce programme nous demande aussi combien d'étudiants sont présents dans la salle et qu'il affiche ce numéro sur l'écran."
   ]
  },
  {
   "cell_type": "markdown",
   "metadata": {},
   "source": [
    "A noter que la lecture de données peut se faire par interrogation de l'utilisateur. Par exemple :  "
   ]
  },
  {
   "cell_type": "code",
   "execution_count": 1,
   "metadata": {},
   "outputs": [
    {
     "name": "stdout",
     "output_type": "stream",
     "text": [
      "Entrer la valeur de la precision p, p =0.01\n"
     ]
    }
   ],
   "source": [
    "p = input(\"Entrer la valeur de la precision p, p =\")\n",
    "p = float(p)"
   ]
  },
  {
   "cell_type": "markdown",
   "metadata": {},
   "source": [
    "l'écriture des données enregistrées dans une variable peut se faire tout simplement encore avec la fonction \"print\""
   ]
  },
  {
   "cell_type": "code",
   "execution_count": 2,
   "metadata": {},
   "outputs": [
    {
     "name": "stdout",
     "output_type": "stream",
     "text": [
      "la valeure de la precision est :0.01\n"
     ]
    }
   ],
   "source": [
    "print(\"la valeure de la precision est :\" + str(p) )"
   ]
  },
  {
   "cell_type": "markdown",
   "metadata": {},
   "source": [
    "ou de façon équivalente :"
   ]
  },
  {
   "cell_type": "code",
   "execution_count": 3,
   "metadata": {},
   "outputs": [
    {
     "name": "stdout",
     "output_type": "stream",
     "text": [
      "la valeure de la precision est : 1.000000e-02\n"
     ]
    }
   ],
   "source": [
    "print(\"la valeure de la precision est : %e\" %p )"
   ]
  },
  {
   "cell_type": "markdown",
   "metadata": {},
   "source": [
    "### Commentaires en Python"
   ]
  },
  {
   "cell_type": "markdown",
   "metadata": {},
   "source": [
    "Une bonne habitude à prendre est d'écrire des commentaires dans le srtipts. \n",
    "Nous pouvons le faire avec le symbole \" # \" , par exemple :"
   ]
  },
  {
   "cell_type": "code",
   "execution_count": 14,
   "metadata": {},
   "outputs": [
    {
     "name": "stdout",
     "output_type": "stream",
     "text": [
      "la valeure de p est : 1.000000e-01\n"
     ]
    }
   ],
   "source": [
    "print(\"la valeure de p est : %e\" %p ) # ici nous imprimons le résultat final"
   ]
  },
  {
   "cell_type": "markdown",
   "metadata": {},
   "source": [
    "### Gestion des accents en Python\n",
    "\n",
    "\n",
    "Si vous avez souvent rencontré un message d'erreur issu de l'utilisation des caractères accentués dans les scripts en Python: voici une solution  à  ce problème. \n",
    "En première ligne d’un script, il faut insérer la ligne :"
   ]
  },
  {
   "cell_type": "code",
   "execution_count": 3,
   "metadata": {},
   "outputs": [],
   "source": [
    "# -*- coding: utf-8 -*-"
   ]
  },
  {
   "cell_type": "markdown",
   "metadata": {},
   "source": [
    "ou bien"
   ]
  },
  {
   "cell_type": "code",
   "execution_count": null,
   "metadata": {},
   "outputs": [],
   "source": [
    "# -*- coding: latin-1 -*-"
   ]
  },
  {
   "cell_type": "markdown",
   "metadata": {},
   "source": [
    "Il s’agit d’un pseudo-commentaire indiquant à Python le système de codage utilisé, ici l’utf-8 (ou le latin-1) qui comprend les caractères spéciaux comme les caractères accentués, les apostrophes, les cédilles , etc ."
   ]
  },
  {
   "cell_type": "markdown",
   "metadata": {},
   "source": [
    "## $\\color{red}{\\text{Écrivez donc votre premier script ! }}$"
   ]
  },
  {
   "cell_type": "markdown",
   "metadata": {},
   "source": [
    "## Script 2 : effectuer des opérations simples sur les variables"
   ]
  },
  {
   "cell_type": "markdown",
   "metadata": {},
   "source": [
    "Nous souhaiton écrire un script qui fait la conversion d'unité pour des mesures de pression. "
   ]
  },
  {
   "cell_type": "markdown",
   "metadata": {},
   "source": [
    "\n",
    "\n",
    "Ce script devra demander à l'utilisateur d'introduire une valeur de pression et une unité de mesure (choisi parmi: Pascal (Pa) , bar (bar) , atmosphère (atm) , Torricelli (torr) et pounds per square inch (psi)), puis demander à l'utilisateur quelle unité il souhaite pour la conversion et enfin afficher la valeur de pression dans l'unité demandée.\n",
    "\n",
    "\n"
   ]
  },
  {
   "cell_type": "markdown",
   "metadata": {},
   "source": [
    "Pour mener  à bien ce script les informations suivantes peuvent être utiles :"
   ]
  },
  {
   "cell_type": "markdown",
   "metadata": {},
   "source": [
    "La table de conversion des unités de pression peut être repèrée ici :\n",
    "\n",
    "http://en.wikipedia.org/wiki/Pressure_measurement#Units"
   ]
  },
  {
   "cell_type": "markdown",
   "metadata": {},
   "source": [
    "### L'affectation de données dans des variables"
   ]
  },
  {
   "cell_type": "code",
   "execution_count": 15,
   "metadata": {},
   "outputs": [],
   "source": [
    "a = 5.0 \n",
    "b , c = 10 , 3\n",
    "name = \"Mark\""
   ]
  },
  {
   "cell_type": "markdown",
   "metadata": {},
   "source": [
    "Ici \"a\" , \"b\" , \"c\" et \"name\" sont des identificateurs (ou simplement des variables). \n",
    "\n",
    "Python ne nécessite pas de déclarer explicitement les types de variables, différemment qu'en Fortran, C et d'autres langages. Juste affectez une variable et Python comprendera automatiquement, ce n'est pas nécessaire de préciser le type (réel, entier, character, etc...) \n",
    "\n",
    "Vous pouvez demander à Python de vous dire quel type il a attribué à vos variables:"
   ]
  },
  {
   "cell_type": "code",
   "execution_count": 16,
   "metadata": {},
   "outputs": [
    {
     "data": {
      "text/plain": [
       "float"
      ]
     },
     "execution_count": 16,
     "metadata": {},
     "output_type": "execute_result"
    }
   ],
   "source": [
    "type(a) "
   ]
  },
  {
   "cell_type": "code",
   "execution_count": 17,
   "metadata": {},
   "outputs": [
    {
     "data": {
      "text/plain": [
       "int"
      ]
     },
     "execution_count": 17,
     "metadata": {},
     "output_type": "execute_result"
    }
   ],
   "source": [
    "type(b) "
   ]
  },
  {
   "cell_type": "code",
   "execution_count": 18,
   "metadata": {},
   "outputs": [
    {
     "data": {
      "text/plain": [
       "str"
      ]
     },
     "execution_count": 18,
     "metadata": {},
     "output_type": "execute_result"
    }
   ],
   "source": [
    "type(name)"
   ]
  },
  {
   "cell_type": "markdown",
   "metadata": {},
   "source": [
    "Portez une attention particulière à l'attribution de valeurs à virgule flottante à des variables ou vous risquez d'obtenir des valeurs que vous ne vous attendez pas dans vos programmes. Par exemple ,"
   ]
  },
  {
   "cell_type": "code",
   "execution_count": 19,
   "metadata": {},
   "outputs": [
    {
     "name": "stdout",
     "output_type": "stream",
     "text": [
      "3\n"
     ]
    }
   ],
   "source": [
    "print(b/c)"
   ]
  },
  {
   "cell_type": "markdown",
   "metadata": {},
   "source": [
    "Vous voyez , si vous divisez un nombre entier par un nombre entier , Python retourne une réponse arrondie à l'entier le plus proche . Mais si vous voulez une résultat à virgule flottante (type float), l'un des numéros doit être de type float. Le simple ajout d'un point décimal fera l'affaire :"
   ]
  },
  {
   "cell_type": "code",
   "execution_count": 20,
   "metadata": {},
   "outputs": [
    {
     "name": "stdout",
     "output_type": "stream",
     "text": [
      "3.33333333333\n"
     ]
    }
   ],
   "source": [
    "b , c = 10. , 3.\n",
    "print (b/c)"
   ]
  },
  {
   "cell_type": "markdown",
   "metadata": {},
   "source": [
    "### Utilisation des listes"
   ]
  },
  {
   "cell_type": "markdown",
   "metadata": {},
   "source": [
    "Une liste est une collections d’objets :"
   ]
  },
  {
   "cell_type": "code",
   "execution_count": 21,
   "metadata": {},
   "outputs": [
    {
     "name": "stdout",
     "output_type": "stream",
     "text": [
      "0\n",
      "4\n",
      "4\n",
      "[0, 5, 6]\n",
      "[0, 6]\n"
     ]
    }
   ],
   "source": [
    "# Definition et affectation d'une liste\n",
    "l = [0, 5, 6, 4]  \n",
    "\n",
    "# Les indices commencent à 0, et non à 1\n",
    "print(l[0])      \n",
    "\n",
    "# Le dernier indice est le 3ème\n",
    "print(l[3])      \n",
    "\n",
    "# On peut compter à partir de la fin, en utilisant des indices negatifs\n",
    "print(l[-1])     \n",
    "\n",
    "# On peut selectioner une tranche (slice) d'elements dans la liste\n",
    "print(l[0:3])    \n",
    "\n",
    "# La syntaxe du “slicing” est [start:stop:step]\n",
    "print(l[0:3:2])  "
   ]
  },
  {
   "cell_type": "markdown",
   "metadata": {},
   "source": [
    "Une liste peut être modifiée:"
   ]
  },
  {
   "cell_type": "code",
   "execution_count": 22,
   "metadata": {},
   "outputs": [
    {
     "name": "stdout",
     "output_type": "stream",
     "text": [
      "[0, 5, 13, 4]\n"
     ]
    }
   ],
   "source": [
    "l[2] = l[2]*2 + 1\n",
    "\n",
    "print(l)"
   ]
  },
  {
   "cell_type": "markdown",
   "metadata": {},
   "source": [
    "Si nous voulons connaître le nombre d'éléments dans une liste :"
   ]
  },
  {
   "cell_type": "code",
   "execution_count": 23,
   "metadata": {},
   "outputs": [
    {
     "data": {
      "text/plain": [
       "4"
      ]
     },
     "execution_count": 23,
     "metadata": {},
     "output_type": "execute_result"
    }
   ],
   "source": [
    "len(l)"
   ]
  },
  {
   "cell_type": "markdown",
   "metadata": {},
   "source": [
    "Nous pouvons  créer  de la même manière une liste de mots  :"
   ]
  },
  {
   "cell_type": "code",
   "execution_count": 24,
   "metadata": {},
   "outputs": [
    {
     "name": "stdout",
     "output_type": "stream",
     "text": [
      "avion\n"
     ]
    }
   ],
   "source": [
    "mots = [\"arbre\" , \"avion\" , \"nuage\"]\n",
    "\n",
    "print(mots[1])"
   ]
  },
  {
   "cell_type": "markdown",
   "metadata": {},
   "source": [
    "### Structure alternative \"if\""
   ]
  },
  {
   "cell_type": "markdown",
   "metadata": {},
   "source": [
    "Regardez l'exemple ci-dessous concernant le calcul des racines réelles d'une équation algébrique du second ordre, pour comprendre le fonctionnement d'une structure \"if\" :"
   ]
  },
  {
   "cell_type": "code",
   "execution_count": 25,
   "metadata": {},
   "outputs": [
    {
     "name": "stdout",
     "output_type": "stream",
     "text": [
      "RESULTATS :\n",
      "Deux racines distinctes : x1 = -1.63245553203 et x2 = -0.367544467966\n"
     ]
    }
   ],
   "source": [
    "d = b**2-4*a*c\n",
    "\n",
    "if d > 0 :\n",
    "    x1 = (-b - sqrt(d))/(2*a)\n",
    "    x2 = (-b + sqrt(d))/(2*a)\n",
    "    print(\"RESULTATS :\")\n",
    "    print(\"Deux racines distinctes : x1 = \" + str(x1) + \" et x2 = \" + str(x2))\n",
    "elif d == 0 :\n",
    "    x1 = -b/(2*a)\n",
    "    print(\"RESULTATS :\")\n",
    "    print(\"Une racine double : x1 = \" + str(x1))\n",
    "else :\n",
    "    print(\"RESULTATS :\")\n",
    "    print(\"Aucune solution!\")    "
   ]
  },
  {
   "cell_type": "markdown",
   "metadata": {},
   "source": [
    "### à noter : indentation nécessaire en langage Python"
   ]
  },
  {
   "cell_type": "markdown",
   "metadata": {},
   "source": [
    "Pour les structures de controle du langage Python, comme \"if\"(et nous verros ensuite \"for\"), il n'y a pas de mot clé \"end\" pour signaler la fin du bloc de lignes concernées par les structures \"if\",\"while\",\"for\".\n",
    "Il faut par contre indenter les lignes (c'est à dire créer des décalages à l'aide de la touche tabulation \"tab\" du clavier) afin de définir une dépendance d'un bloc de lignes par rapport à un autre."
   ]
  },
  {
   "cell_type": "markdown",
   "metadata": {},
   "source": [
    "## Script 3 : lire des données à partir d'un fichier et les élaborer"
   ]
  },
  {
   "cell_type": "markdown",
   "metadata": {},
   "source": [
    "Nous disposons des données de pression enregistrées  (à la fréquence d'une mesure par seconde) par un tube de Pitot d'un avion en vol à une altitude de 10000 mètres :\n",
    "\n",
    "https://www.dropbox.com/s/ebvjxhx6fgitw6o/pressure.txt?dl=0\n",
    "\n",
    "Vous pouvez télécharger ce fichier avec la commande de Linux \" wget \". Ecrivez sur votre console :  \"wget  adresse_internet_du_fichier\" . "
   ]
  },
  {
   "cell_type": "markdown",
   "metadata": {},
   "source": [
    "![Image of Yaktocat](http://upload.wikimedia.org/wikipedia/commons/0/00/Pitot_tube_wings-fr.jpg)"
   ]
  },
  {
   "cell_type": "markdown",
   "metadata": {},
   "source": [
    "On est interessé à écrire un script qui lit ces données et qui les transforme dans des mesures de vitesse. La relation entre la pression et la vitesse est donnée par la loi de Bernoulli: "
   ]
  },
  {
   "cell_type": "markdown",
   "metadata": {},
   "source": [
    "$$V(t) = \\sqrt{\\frac{2\\left(p(t)-p_s\\right)}{\\rho}}.$$ \n",
    "Ici:\n",
    "\n",
    "$p(t)$ est la pression mesurée au cours du temps ($t$) en Pascal,\n",
    "\n",
    "$p_s$ est la pression statique, $p_s=4 \\, kPa$,\n",
    "\n",
    "$\\rho$ est la masse volumique de l'air, $\\rho=0.91875 \\, kg/m^3$."
   ]
  },
  {
   "cell_type": "markdown",
   "metadata": {},
   "source": [
    "Pour la réalisation de ce script les informations suivantes vous seront utiles :"
   ]
  },
  {
   "cell_type": "markdown",
   "metadata": {},
   "source": [
    "### La lecture des données"
   ]
  },
  {
   "cell_type": "code",
   "execution_count": 27,
   "metadata": {},
   "outputs": [
    {
     "name": "stdout",
     "output_type": "stream",
     "text": [
      "<type 'str'>\n",
      "53274.300000\n"
     ]
    }
   ],
   "source": [
    "# Ouverture d'un fichier\n",
    "f = open(\"pressure.txt\", \"r\")\n",
    "# définition d'une liste vide\n",
    "data=[]\n",
    "# lecture de fichier complet et affectation des éléments de la liste \n",
    "data=f.read().split()\n",
    "# fermeture du fichier f\n",
    "f.close()\n",
    "\n",
    "#contrôle de type\n",
    "print( type(data[0]) )\n",
    "#impression de la première donnée \n",
    "print(data[0])"
   ]
  },
  {
   "cell_type": "code",
   "execution_count": 28,
   "metadata": {},
   "outputs": [
    {
     "name": "stdout",
     "output_type": "stream",
     "text": [
      "<type 'float'>\n",
      "53274.3\n"
     ]
    }
   ],
   "source": [
    "#conversion au type désiré \n",
    "data[0] = float(data[0])\n",
    "#contrôle de type\n",
    "print ( type(data[0]) )\n",
    "#impression\n",
    "print data[0]"
   ]
  },
  {
   "cell_type": "markdown",
   "metadata": {},
   "source": [
    "à noter que lorsque les données sont lues de la manière ci-dessus, elles sont stockées dans une liste de type chaîne de caractères (string). \n",
    "Si nous devons effectuer des opérations mathématiques sur elles, nous devons les convertir en un type numérique ( par exemple \"float \" ou \"int\" )."
   ]
  },
  {
   "cell_type": "markdown",
   "metadata": {},
   "source": [
    "### Ecriture dans un fichier"
   ]
  },
  {
   "cell_type": "code",
   "execution_count": 29,
   "metadata": {
    "collapsed": true
   },
   "outputs": [],
   "source": [
    "val1 = 5.0  # affectation d'une variable réelle\n",
    "\n",
    "val2 = str(val1) # conversion en chaîne de caractères\n",
    "\n",
    "# Ouverture d'un nouveau fichier\n",
    "f = open(\"output.txt\", \"w\")\n",
    "# écriture dans le fichier \n",
    "f.write(val2)  \n",
    "# fermeture du fichier \n",
    "f.close()"
   ]
  },
  {
   "cell_type": "markdown",
   "metadata": {},
   "source": [
    "à noter que la commande \"write\" ne peut écrire que des chaînes de caractères (string)."
   ]
  },
  {
   "cell_type": "markdown",
   "metadata": {},
   "source": [
    "### La structure repetitive \"for\""
   ]
  },
  {
   "cell_type": "markdown",
   "metadata": {},
   "source": [
    "Regardez l'exemple ci-dessous concernant tri par sélection de données, pour comprendre le fonctionnement d'une structure  boucle \"for\" :"
   ]
  },
  {
   "cell_type": "code",
   "execution_count": 30,
   "metadata": {},
   "outputs": [
    {
     "name": "stdout",
     "output_type": "stream",
     "text": [
      "Liste triée :\n",
      "[0.0, 1.0, 2.0, 2.0, 3.0, 5.0, 8.0, 40.0, 65.0, 98.0, 115.0]\n"
     ]
    }
   ],
   "source": [
    "# Tri par sélection\n",
    "# Données initiales \n",
    "M = [1. , 2. , 5. , 40. , 65. , 2.,8. , 98. ,115. ,0. , 3.]\n",
    "\n",
    "# Détermination de la longueur  de la liste\n",
    "N = len(M) \n",
    "\n",
    "for i in range(0,N-1):   \n",
    "    for j in range(i+1,N):\n",
    "        if M[j] < M[i]:\n",
    "            val_temp = M[i]\n",
    "            M[i] = M[j]\n",
    "            M[j] = val_temp\n",
    "print(\"Liste triée :\")\n",
    "print(M)"
   ]
  },
  {
   "cell_type": "markdown",
   "metadata": {},
   "source": [
    "à noter que la commande \" range(a,b) \" produit une liste de nombres entiers progressifs  compris entre a et b-1 , par exemple :"
   ]
  },
  {
   "cell_type": "code",
   "execution_count": 31,
   "metadata": {},
   "outputs": [
    {
     "data": {
      "text/plain": [
       "[0, 1, 2, 3, 4, 5, 6, 7, 8, 9]"
      ]
     },
     "execution_count": 31,
     "metadata": {},
     "output_type": "execute_result"
    }
   ],
   "source": [
    "range(0,10)"
   ]
  },
  {
   "cell_type": "markdown",
   "metadata": {},
   "source": [
    "### Utiliser les fonctions mathématiques"
   ]
  },
  {
   "cell_type": "markdown",
   "metadata": {},
   "source": [
    "En Python afin de pouvoir utiliser les fonctions mathématiques (par exemple, exp, sqrt , sin , cos , tan), vous devez les importer par avance à partir de la bibliothèque mathématique \"math\" :"
   ]
  },
  {
   "cell_type": "code",
   "execution_count": 32,
   "metadata": {},
   "outputs": [],
   "source": [
    "# importing all functions from the math library\n",
    "from math import *      "
   ]
  },
  {
   "cell_type": "markdown",
   "metadata": {},
   "source": [
    "Nous vous demandons donc de lire la serie des données de pression dans le fichier et de calculer la vitesse de l' avion en utilisant la relation donnée.\n",
    "\n"
   ]
  },
  {
   "cell_type": "markdown",
   "metadata": {},
   "source": [
    "On demande ensuite de calculer la valeur moyenne de la vitesse de l'avion (en Km/heure) et de l'imprimer.\n",
    "\n"
   ]
  },
  {
   "cell_type": "markdown",
   "metadata": {},
   "source": [
    "Question bonus : Seriez-vous capable de calculer l'accélération de l'avion au cours du temps, et de l'enregistrer dans un fichier?\n",
    "\n",
    "\n"
   ]
  },
  {
   "cell_type": "markdown",
   "metadata": {},
   "source": [
    "## Script 4 : représentation graphique des données"
   ]
  },
  {
   "cell_type": "markdown",
   "metadata": {},
   "source": [
    "Nous souhaitons analyser graphiquement les données , par exemple en les traçant ou en faisant leur histogramme ."
   ]
  },
  {
   "cell_type": "markdown",
   "metadata": {},
   "source": [
    "Pour la réalisation de ce script les informations suivantes vous seront utiles :"
   ]
  },
  {
   "cell_type": "markdown",
   "metadata": {},
   "source": [
    "### Bibliothèques de Python"
   ]
  },
  {
   "cell_type": "markdown",
   "metadata": {},
   "source": [
    "Python dispose de nombreuses bibliothèques qui fournissent des fonctionnalités avancées comme la possibilté d'effectuer des opérations sur des matrices, des fonctions graphiques, et bien plus encore. Nous pouvons donc importer ces bibliothèques de fonctions pour étendre les capacités de Python dans nos programmes.\n",
    "\n",
    "Nous allons commencer par l'importation de quelques bibliothèques pour nous aider.\n",
    "\n",
    "Premièrement, nous l'avons déjà vu, nous utilisons Math, la bibliothèque mathématique standard qui comprend les fonctions trigonométriques et transcendantales, ainsi que  d'autres fonctions spéciales.\n",
    "\n",
    "Pour voir la liste complète des fonctions de la bibliothèque Math:\n",
    "https://docs.python.org/2/library/math.html#module-math\n",
    "\n",
    "Notre deuxième bibliothèque préférée est NumPy (Numerical Python), fournissant un grande nombre d'opérations matricielles utiles (cette bibliothèque est similaire à MATLAB ). Nous allons l'utiliser beaucoup! \n",
    "\n",
    "La documentation de numpy se trouve ici : http://docs.scipy.org/doc/numpy/reference/\n",
    "\n",
    "La troisième bibliothèque dont nous avons besoin est Matplotlib, une bibliothèque de graphique 2D que nous allons utiliser pour tracer nos résultats.\n",
    "\n",
    "La documentation de référence est disponible ici : http://matplotlib.org/contents.html\n",
    "\n",
    "Le code suivant sera au sommet de la plupart de vos programmes :"
   ]
  },
  {
   "cell_type": "code",
   "execution_count": 33,
   "metadata": {},
   "outputs": [],
   "source": [
    "# importing all functions from the math library\n",
    "from math import *            \n",
    "# we import the array library, and call it 'np'\n",
    "import numpy as np                 \n",
    "# import plotting library, and call it 'plt'\n",
    "import matplotlib.pyplot as plt    "
   ]
  },
  {
   "cell_type": "markdown",
   "metadata": {},
   "source": [
    "Nous importons donc toutes les fonctions de la bibliothèque \"math\" et nous importons aussi\n",
    "une bibliothèque nommée \"numpy\". Enfin, nous importons un module appelé \"pyplot\" d'une grande bibliothèque appelée \"matplotlib\".  \n",
    "\n",
    "Les deux dernières lignes ci-dessus ont créé des raccourcis pour les bibliothèques tel que \"np\" et \"plt\" respectivement. La raison de la création des raccourcis est que nous avons besoin de taper les noms de bibliothèque assez souvent dans le code.\n",
    "Pour utiliser une fonction appartenant à l'une de ces bibliothèques, nous devons dire à Python où la chercher. Pour cela, chaque nom de fonction est écrit après le nom de la bibliothèque, avec un point entre les deux. Par exemple :"
   ]
  },
  {
   "cell_type": "code",
   "execution_count": 34,
   "metadata": {},
   "outputs": [
    {
     "data": {
      "text/plain": [
       "array([ 0.,  0.,  0.,  0.,  0.])"
      ]
     },
     "execution_count": 34,
     "metadata": {},
     "output_type": "execute_result"
    }
   ],
   "source": [
    "np.zeros(5)"
   ]
  },
  {
   "cell_type": "markdown",
   "metadata": {},
   "source": [
    "### Tracer des courbes"
   ]
  },
  {
   "cell_type": "code",
   "execution_count": 35,
   "metadata": {},
   "outputs": [
    {
     "data": {
      "image/png": "[encoded data removed]",
      "text/plain": [
       "<matplotlib.figure.Figure at 0x10e6bf9d0>"
      ]
     },
     "metadata": {},
     "output_type": "display_data"
    }
   ],
   "source": [
    "%matplotlib inline  \n",
    "#ignorez la ligne ci-dessus. c'est juste une commande de notre éditeur de texte\n",
    "\n",
    "x=np.linspace(-5,5,100)  # nous définissons une liste (array) avec Numpy \n",
    "plt.plot(x,np.sin(x))  # on utilise la fonction sinus de Numpy\n",
    "plt.plot(x,np.cos(x))  \n",
    "plt.ylabel('fonction sinus')\n",
    "plt.xlabel(\"l'axe des abcisses\")\n",
    "plt.show()"
   ]
  },
  {
   "cell_type": "markdown",
   "metadata": {},
   "source": [
    "### Changer le style des courbes"
   ]
  },
  {
   "cell_type": "code",
   "execution_count": 36,
   "metadata": {},
   "outputs": [
    {
     "data": {
      "text/plain": [
       "[<matplotlib.lines.Line2D at 0x10ff47c50>,\n",
       " <matplotlib.lines.Line2D at 0x10ff47dd0>,\n",
       " <matplotlib.lines.Line2D at 0x10ff8c290>]"
      ]
     },
     "execution_count": 36,
     "metadata": {},
     "output_type": "execute_result"
    },
    {
     "data": {
      "image/png": "[encoded data removed]",
      "text/plain": [
       "<matplotlib.figure.Figure at 0x10e6bf7d0>"
      ]
     },
     "metadata": {},
     "output_type": "display_data"
    }
   ],
   "source": [
    "%matplotlib inline  \n",
    "\n",
    "t1=np.linspace(0,5,10)\n",
    "t2=np.linspace(0,5,20)\n",
    "plt.plot(t1, t1, 'r--', t1, t1**2, 'bs', t2, t2**3, 'g^-')"
   ]
  },
  {
   "cell_type": "markdown",
   "metadata": {},
   "source": [
    "### Un histogramme et un affichage de texte sur le graphique"
   ]
  },
  {
   "cell_type": "code",
   "execution_count": 37,
   "metadata": {},
   "outputs": [
    {
     "data": {
      "image/png": "[encoded data removed]",
      "text/plain": [
       "<matplotlib.figure.Figure at 0x10ffc2650>"
      ]
     },
     "metadata": {},
     "output_type": "display_data"
    }
   ],
   "source": [
    "%matplotlib inline\n",
    "\n",
    "mu, sigma = 100, 15\n",
    "#generation de 10000 nombres aleatoires\n",
    "x = mu + sigma * np.random.randn(10000)  \n",
    "\n",
    "bins = 30\n",
    "\n",
    "#  histogramme des donnees\n",
    "plt.hist(x, bins, normed=1, facecolor='r', alpha=0.8)\n",
    "plt.xlabel('Donnees')\n",
    "plt.ylabel('Probabilite')\n",
    "plt.title('Histogramme')\n",
    "plt.text(60, .025, r'$\\mu=100,\\ \\sigma=15$')\n",
    "plt.axis([40, 160, 0, 0.03])\n",
    "plt.grid(True)"
   ]
  },
  {
   "cell_type": "markdown",
   "metadata": {},
   "source": [
    "### Questions : "
   ]
  },
  {
   "cell_type": "markdown",
   "metadata": {},
   "source": [
    "D'abord, nous demandons d'écrire un script qui trace un graphique de la pression (en kPa) en fonction du temps (en heures). N'oubliez pas d'indiquer les étiquettes sur les axes.\n",
    "\n",
    "\n"
   ]
  },
  {
   "cell_type": "markdown",
   "metadata": {},
   "source": [
    "\n",
    "\n",
    "Sur le même graphique tracer aussi trois lignes (en couleurs differentes) l'une représentant la valeur moyenne ( $\\mu$ ) de la pression et les deux autres la valeurs moyennes plus / moins l'écart type ( $\\sigma$ ):\n",
    "\n"
   ]
  },
  {
   "cell_type": "markdown",
   "metadata": {},
   "source": [
    "$$\\mu = \\frac{1}{N} \\Sigma_{i=1,N} x_i  \\qquad \\sigma=\\sqrt{\\frac{1}{N} \\Sigma_{i=1,N} (x_i - \\mu)^2}$$"
   ]
  },
  {
   "cell_type": "markdown",
   "metadata": {},
   "source": [
    "\n",
    "\n",
    "\n",
    "Deuxièmement, nous demandons également de construire un histogramme, mais  cette fois de la vitesse (en Km/h).\n",
    "\n",
    "\n"
   ]
  },
  {
   "cell_type": "markdown",
   "metadata": {},
   "source": [
    "# Partie 2"
   ]
  },
  {
   "cell_type": "markdown",
   "metadata": {},
   "source": [
    "### Utiliser les fonctions en Python\n",
    "\n",
    "Vous savez déjà ce qu'est une fonction mathématique d'une variable réelle.\n",
    "Considérons par exemple la fonction f(x) suivante :\n",
    "\n",
    "f : x ---> 2 x + 1\n",
    "\n",
    "\n",
    "pour la définir en Python :"
   ]
  },
  {
   "cell_type": "code",
   "execution_count": 5,
   "metadata": {},
   "outputs": [],
   "source": [
    "#definition d'une fonction\n",
    "def f(x):\n",
    "    return 2 * x + 1\n",
    "\n",
    "#utilisation de la fonction\n",
    "print(f(4))"
   ]
  },
  {
   "cell_type": "markdown",
   "metadata": {},
   "source": [
    "Avez-vous remarqué qu’à la deuxième ligne, on n’a pas commencé à écrire au début de la ligne? De la même façon que pour les structures de contrôle 'if' ou 'for', nous devons appliquer la règle d'indentation.\n",
    "Cette indentation est indispensable pour que l'interpréteur Python comprenne la fin d'un bloc de définition d'une fonction.\n",
    "\n",
    "Le principe de définition de fonctions est intéressant pour deux raisons :\n",
    "\n",
    "1) cela nous permet de ne pas répéter un calcul long à taper,\n",
    "\n",
    "2) Python possède un type spécial dédié au fonctions, que l’on peut donc manipuler, mettre dans des listes pour les étudier les unes à la suite des autres. \n",
    "\n",
    "Par exemple :"
   ]
  },
  {
   "cell_type": "code",
   "execution_count": 6,
   "metadata": {},
   "outputs": [
    {
     "name": "stdout",
     "output_type": "stream",
     "text": [
      "3 5 7 9 11 13\n"
     ]
    }
   ],
   "source": [
    "print( f(1) , f(2) , f(3) , f(4) , f(5) , f(6))"
   ]
  },
  {
   "cell_type": "code",
   "execution_count": 7,
   "metadata": {},
   "outputs": [
    {
     "name": "stdout",
     "output_type": "stream",
     "text": [
      "<class 'function'>\n"
     ]
    }
   ],
   "source": [
    "print( type(f))"
   ]
  },
  {
   "cell_type": "code",
   "execution_count": 8,
   "metadata": {},
   "outputs": [
    {
     "name": "stdout",
     "output_type": "stream",
     "text": [
      "hello Mark from Python!!!\n"
     ]
    }
   ],
   "source": [
    "# definition d'une seconde fonction\n",
    "def hi(name):\n",
    "    print(\"hello \" + name + \" from Python!!!\")\n",
    "\n",
    "#exemple d'utilisation    \n",
    "hi(\"Mark\")  "
   ]
  },
  {
   "cell_type": "code",
   "execution_count": 9,
   "metadata": {},
   "outputs": [
    {
     "data": {
      "text/plain": [
       "'w'"
      ]
     },
     "execution_count": 9,
     "metadata": {},
     "output_type": "execute_result"
    }
   ],
   "source": [
    "#definition  d'une trosieme fonction\n",
    "from random import choice\n",
    "def lettre():\n",
    "    return choice('abcdefghijklmnopqrstuvwxyz')\n",
    "\n",
    "#exemple d'utilisation \n",
    "lettre()"
   ]
  },
  {
   "cell_type": "code",
   "execution_count": 10,
   "metadata": {},
   "outputs": [
    {
     "name": "stdout",
     "output_type": "stream",
     "text": [
      "hello Dominique from Python!!!\n"
     ]
    },
    {
     "data": {
      "text/plain": [
       "'v'"
      ]
     },
     "execution_count": 10,
     "metadata": {},
     "output_type": "execute_result"
    }
   ],
   "source": [
    "#definition d'une liste de fonctions\n",
    "mes_fonctions = [f,hi,lettre]\n",
    "\n",
    "#utilisation\n",
    "mes_fonctions[1](\"Dominique\")\n",
    "\n",
    "mes_fonctions[2]()"
   ]
  },
  {
   "cell_type": "markdown",
   "metadata": {},
   "source": [
    "## Script 5 : calcul des forces sur un ballon de football"
   ]
  },
  {
   "cell_type": "markdown",
   "metadata": {},
   "source": [
    "![title](kick.jpg)"
   ]
  },
  {
   "cell_type": "markdown",
   "metadata": {},
   "source": [
    "Les forces sur un ballon de football en vol suite à un coup de pied d'un joueur sont deux: la force de la pesanteur (le poids $F_P$) et la force de  traînée exercée par le frottement de l'air sur le ballon ($F_T$). Leurs expressions sont les suivantes : \n",
    "\n",
    "$$F_P = M\\ g$$\n",
    "\n",
    "$$F_T = 0.5 \\ C_D \\ \\rho \\ u^2\\ S $$\n",
    "\n",
    "Où $M$ est la masse du ballon, $g$ l'accélération de gravité, $C_D$ le coefficient de traînée, $\\rho$ la masse volumique de l'air, $u$ la vitesse du ballon et enfin $S$ la section du ballon $S=\\pi\\ R^2$ (avec R le rayon).\n",
    "\n",
    "Nous demandons d'écrire un script qui tout d'abord demande à l'utilisateur d'entrer les valeurs du rayon du ballon (en mètres), de la masse du ballon (en kg) et de la vitesse du ballon ainsi que l'unité de mesure pour cette dernière (soit \"m/s\" ou \"km/h\").\n",
    "Ensuite le script devra calculer les forces $F_P$ et $F_T$, afficher les deux valeurs ainsi que leur rapport $F_T/F_P$.\n",
    "\n",
    "On demande de faire tout cela  à l'aide de quatre fonctions :\n",
    "\n",
    "1) une fonction qui convertit  la vitesse de \"km/h\" en \"m/s\" si besoin\n",
    "\n",
    "2) une fonction qui calcule la surface $S$ du ballon  à partir du rayon $R$\n",
    "\n",
    "3) une fonction qui calcule $F_T$\n",
    "\n",
    "4) une fonction qui calcule $F_P$\n",
    "\n",
    "Les données du problème sont l'accélération de gravité $g=9.81 \\, m /s^2$, la masse volumique de l'air $\\rho = 1.2 \\, kg/m^{-3}$,  le coefficient de trainée $C_D=0.2$. \n",
    "Tourner le script plusieurs fois et dire ce qui change dans le rapport $F_T/F_P$ pour des valeurs de vitesse croissantes (p.ex. $u=10 \\, km/h$, $u=120 \\, km/h$) et à masse et rayon fixes.\n"
   ]
  },
  {
   "cell_type": "markdown",
   "metadata": {},
   "source": [
    "## Script 6 : étude de la fonction de transfert du système ressort - amortisseur (suspension) d’un  automobile\n",
    "\n",
    "L’objet de ce script est d'illustrer à l'aide de Python les rôles respectifs joués par le ressort et l’amortisseur d’un système automobile. \n",
    "Pour ce faire, nous étudions un ressort couplé à un amortisseur en parallèle. \n",
    "\n",
    "Comme dans la figure ci-dessous:"
   ]
  },
  {
   "cell_type": "markdown",
   "metadata": {},
   "source": [
    "![image](masse-ressort-amortisseur.jpg)"
   ]
  },
  {
   "cell_type": "markdown",
   "metadata": {},
   "source": [
    "L'équation vérifiée par le système est la suivante :\n",
    "\n",
    "$$ \\ddot{x} + \\frac{\\omega_0}{Q} \\dot{x} + \\omega_0^2\\ x = \\frac{F}{m} \\cos( \\omega t) $$\n",
    "\n",
    "Ici $m$ est la masse de la roue, $F$ et $\\omega$ sont respectivement l'intensité de la force appliquée (qui modélise l'effet des ondulations du sol sur la roue) et sa pulsation , $\\omega_0$ la pulsation caractéristique du ressort ($\\omega_0=\\sqrt{k/m}$) et enfin $Q$ est un coefficient appelé coefficient de qualité. Ici on négligera le poids de la roue. \n",
    "\n",
    "Un système très amorti a un $Q$ faible. À l'inverse, un $Q$ élevé correspond à un système peu amorti. Pour fixer les idées, le $Q$ d'une voiture avec des amortisseurs en bon état est légèrement supérieur à 1.\n",
    "\n",
    "De la solution de l'équation du système ressort-amortisseur on trouve la fonction de transfert qui décrit la réponse du système en fonction de la pulsation $\\omega$. \n",
    "\n",
    "En particulier la fonction de transfert (le module de cette fonction pour la précision) s'écrit :\n",
    "\n",
    "$$ T(\\omega) = \\frac{F}{m \\ \\omega_0^2} \\frac{1}{\\sqrt{ \\left( 1 - \\omega^2/\\omega_0^2 \\right)^2 +  Q^{-2} \\ \\omega^2/\\omega_0^2 }} $$\n",
    "\n",
    "ou en utilisant la pulsation adimensionnée u = ω/ω0 :\n",
    "\n",
    "$$ T(u) = \\frac{F}{m \\ \\omega_0^2} \\frac{1}{\\sqrt{ \\left( 1 - u^2 \\right)^2 +  u^{2}/ \\      Q^2}} $$\n",
    "\n",
    "Nous demandons d'écrire un script qui trace un graphique du module de la fonction de transfert $T(u)$ en fonction de la pulsation adimensionnée $u$ (dans l'intervalle $[0,2]$) pour toutes les valeurs de $Q$ dans l'intervalle $[0,10]$ avec rapport entre une valeur de $Q$ et la valeur précédente de $\\delta Q = 2.0$ (facteur de redoublement).\n",
    "\n",
    "Prendre la valeur suivante pour l'amplitude de la fonction de transfert  $$ \\frac{F}{m \\omega_0^2} = 2 $$ \n",
    "\n",
    "##### Ça pourrait être utile : \n",
    "\n",
    "#### La boucle while \n",
    "\n",
    "Le but de la boucle \"while\" est de répéter certaines instructions tant qu’une condition est respectée. On n’est pas donc obligé de savoir au départ le nombre de répétitions à faire.\n"
   ]
  },
  {
   "cell_type": "code",
   "execution_count": 15,
   "metadata": {},
   "outputs": [
    {
     "name": "stdout",
     "output_type": "stream",
     "text": [
      "Et 1!\n",
      "Et 2!\n",
      "Et 3!\n",
      "Zéro!\n"
     ]
    }
   ],
   "source": [
    "nb_repetitions = 3\n",
    "i = 1\n",
    "\n",
    "while i <= nb_repetitions :\n",
    "    print(\"Et \"+str(i)+\"!\")\n",
    "    i = i+1\n",
    "print(\"Zéro!\")"
   ]
  },
  {
   "cell_type": "markdown",
   "metadata": {},
   "source": [
    "L’instruction \"break\" sert, non pas à interrompre le programme, mais à sortir de la boucle."
   ]
  },
  {
   "cell_type": "code",
   "execution_count": 16,
   "metadata": {},
   "outputs": [
    {
     "name": "stdout",
     "output_type": "stream",
     "text": [
      "Et 1!\n",
      "Et 2!\n",
      "Zéro!\n"
     ]
    }
   ],
   "source": [
    "nb_repetitions = 3\n",
    "i = 1\n",
    "\n",
    "while i <= nb_repetitions :\n",
    "    print(\"Et \"+str(i)+\"!\")\n",
    "    i = i+1\n",
    "    if i==3: \n",
    "        break\n",
    "print(\"Zéro!\")"
   ]
  },
  {
   "cell_type": "markdown",
   "metadata": {},
   "source": [
    "#### Création d'une légende sur un graphique"
   ]
  },
  {
   "cell_type": "code",
   "execution_count": 18,
   "metadata": {},
   "outputs": [
    {
     "data": {
      "image/png": "[encoded data removed]",
      "text/plain": [
       "<Figure size 432x288 with 1 Axes>"
      ]
     },
     "metadata": {
      "needs_background": "light"
     },
     "output_type": "display_data"
    }
   ],
   "source": [
    "from math import *\n",
    "import numpy as np\n",
    "import matplotlib.pyplot as plt\n",
    "\n",
    "# Création d'une array numpy : Temps = Abscisses \n",
    "t = np.linspace(0,10,400)    \n",
    "\n",
    "# Fonction U dépendant d'un paramètre Q\n",
    "def U(t,Q):\n",
    "    return np.exp(-2/Q*t)*np.cos(2*pi*t)  \n",
    "\n",
    "# Plot1 avec Q = 2 et édition du label correspondant\n",
    "Q=2.0\n",
    "plt.plot(t,U(t,Q),label=\"Q=\" + str(Q)) \n",
    "\n",
    "# Plot2 avec Q = 10 et édition du label correspondant\n",
    "Q=10.0\n",
    "plt.plot(t,U(t,Q),label=\"Q=\" + str(Q)) \n",
    "\n",
    "# Appel de la légende\n",
    "plt.legend(loc='upper right')    \n",
    "\n",
    "plt.show()"
   ]
  },
  {
   "cell_type": "markdown",
   "metadata": {},
   "source": [
    "## Script 7 : Préparation des données d'entrée pour une machine-outil à contrôle numérique\n",
    "\n",
    "Les machines-outil d'usinage à contrôle numérique peuvent être contrôlées à travers un fichier de données d'entrée. Ce fichier contient toutes les spécifications géométriques de l'objet à usiner et il a souvent la forme d'une matrice en deux dimensions, dans laquelle chaque élément identifie une coordonnée spatiale (x, y) alors que la valeur de l'élément contient l'information sur l'usinage (par exemple dans une fraiseuse \"$0$\" signifie couper et \"$1$\" signifie  garder tel qu'il est). \n",
    "\n",
    "Nous considérons ici une machine-outil fraiseuse avec résolution du dixième de millimètre, et une surface de travail de $(10 \\times 10) cm^2$. Nous voulons découper de la pièce brute une bielle à partir d'un bloc de métal de dimensions $(10 \\times 10) cm^2$ (l'épaisseur du bloc n'a pas d' importance ici).\n",
    "\n",
    "La géométrie de la bielle est montrée dans la figure ci-dessous :"
   ]
  },
  {
   "cell_type": "markdown",
   "metadata": {},
   "source": [
    "![image](bielle.jpg)"
   ]
  },
  {
   "cell_type": "markdown",
   "metadata": {},
   "source": [
    "Détails de la géométrie de la bielle:\n",
    "\n",
    "- le grand anneau a rayon interne $r_1 = 10.0\\ mm$, rayon externe $r_2 = 16.0\\ mm$ , position du centre $x_1 = 50.0 \\ mm$ , $y_1 = 20.0 \\ mm$.\n",
    "\n",
    "- le petit anneau a rayon interne $r_3 = 3.0\\ mm$ , rayon externe $r_4 = 11.2\\ mm$ , position du centre $x_2 = 50.0 \\ mm$ , $y_2 = 75.0 \\ mm$.\n",
    "\n",
    "- la barre de liaison a longueur $l=30.0\\ mm$ , hauteur $h = 10.0\\ mm$ et centre géométrique en $x_3 = 50.0 \\ mm$, $y_3 = 50.0 \\ mm$. \n",
    "\n",
    "On demande d'écrire un script qui crée la matrice pour usiner la bielle en figure.\n",
    "\n",
    "Cette matrice devra avoir $1000$ x $1000$ éléments, chaque élément correspondant à $(0.1 \\times 0.1) mm^2$, et la valeur des éléments doit être soit $0$ si le matériau doit être enlevé (ou bien complètement fraisé dans ce cas) soit $1$ s'il doit être gardé comme il est.\n",
    "\n",
    "a) Montrer à travers un graphique la matrice que vous avez obtenu\n",
    "\n",
    "b) Tracer aussi un graphique de la section longitudinale centrale de la bielle.\n",
    "\n",
    "##### Cela pourrait vous être utile :\n",
    "\n",
    "#### Créer et manipuler un tableau multidimensionnel avec numpy"
   ]
  },
  {
   "cell_type": "code",
   "execution_count": 23,
   "metadata": {},
   "outputs": [
    {
     "name": "stdout",
     "output_type": "stream",
     "text": [
      "[[ 0  1  2]\n",
      " [ 1  2  3]\n",
      " [ 4  6 12]\n",
      " [44 55 56]]\n"
     ]
    }
   ],
   "source": [
    "import numpy as np\n",
    "\n",
    "#définition d'une matrice avec numpy\n",
    "tableau = np.array ([[0 ,1 ,2] ,[1,2,3], [4,6,12], [44 ,55 ,56]]) \n",
    "\n",
    "print(tableau)"
   ]
  },
  {
   "cell_type": "code",
   "execution_count": 24,
   "metadata": {},
   "outputs": [
    {
     "name": "stdout",
     "output_type": "stream",
     "text": [
      "44\n"
     ]
    }
   ],
   "source": [
    "# copier un element du tableau, tableau[num. ligne][num. colonne]\n",
    "n=tableau[3,0] \n",
    "\n",
    "print(n) "
   ]
  },
  {
   "cell_type": "markdown",
   "metadata": {},
   "source": [
    "Noter que l'indice de gauche indique toujours le nombre de la ligne tandis que l'indice de droite indique le numéro de la colonne. \n",
    "\n",
    "Ce système d'indexage (dite convention \"row-major order\" ou \"ligne par ligne\") n'est pas toujours intuitif :\n",
    "dans le cas d'une matrice $A[i, j]$ qui contient des informations spatiales l'indice à gauche ( $i$ ) identifie la coordonnée verticale $y$ et l'indice de droite ( $j$ ) identifie la coordonnée horizontale $x$."
   ]
  },
  {
   "cell_type": "code",
   "execution_count": 26,
   "metadata": {},
   "outputs": [
    {
     "name": "stdout",
     "output_type": "stream",
     "text": [
      "[ 0  1  4 44]\n"
     ]
    }
   ],
   "source": [
    "c=tableau[:,0] # copier une colonne du tableau\n",
    "print(c)"
   ]
  },
  {
   "cell_type": "code",
   "execution_count": 27,
   "metadata": {},
   "outputs": [
    {
     "name": "stdout",
     "output_type": "stream",
     "text": [
      "[[0 1]\n",
      " [1 2]]\n"
     ]
    }
   ],
   "source": [
    "d=tableau[:2,:2] # copier une colonne du tableau\n",
    "\n",
    "print(d)"
   ]
  },
  {
   "cell_type": "code",
   "execution_count": 28,
   "metadata": {},
   "outputs": [
    {
     "name": "stdout",
     "output_type": "stream",
     "text": [
      "[[ 2  3  4]\n",
      " [ 3  4  5]\n",
      " [ 6  8 14]\n",
      " [46 57 58]]\n"
     ]
    }
   ],
   "source": [
    "tableau = tableau + 2  #ajouter 2 aux éléments du tableau\n",
    "print(tableau)"
   ]
  },
  {
   "cell_type": "code",
   "execution_count": null,
   "metadata": {},
   "outputs": [],
   "source": [
    "tableau2 = np.zeros((4,3))  #définition d'une matrice composée de zéros\n",
    "\n",
    "print(tableau2)"
   ]
  },
  {
   "cell_type": "markdown",
   "metadata": {},
   "source": [
    "#### Représenter graphiquement une matrice"
   ]
  },
  {
   "cell_type": "code",
   "execution_count": 29,
   "metadata": {},
   "outputs": [
    {
     "data": {
      "image/png": "[encoded data removed]",
      "text/plain": [
       "<Figure size 460.8x288 with 2 Axes>"
      ]
     },
     "metadata": {
      "needs_background": "light"
     },
     "output_type": "display_data"
    },
    {
     "data": {
      "image/png": "[encoded data removed]",
      "text/plain": [
       "<Figure size 460.8x288 with 2 Axes>"
      ]
     },
     "metadata": {
      "needs_background": "light"
     },
     "output_type": "display_data"
    }
   ],
   "source": [
    "import numpy as np\n",
    "import matplotlib.pyplot as plt\n",
    "\n",
    "#création d'une matrice aléatoire de 80x50 elements\n",
    "my_mat = np.random.random((50, 80)) \n",
    "\n",
    "# représentation graphique\n",
    "plt.matshow(my_mat) \n",
    "\n",
    "# définition des marqueurs en x\n",
    "plt.xticks(range(0,80,10)) \n",
    "# définition des marqueurs en y\n",
    "plt.yticks(range(0,50,10)) \n",
    "\n",
    "plt.colorbar()\n",
    "\n",
    "plt.show()        \n",
    "\n",
    "# représentation graphique en blanc et noir\n",
    "plt.matshow(my_mat,cmap='Greys') \n",
    "plt.colorbar()\n",
    "plt.show()        "
   ]
  },
  {
   "cell_type": "markdown",
   "metadata": {},
   "source": [
    "# Lire un fichier Excel avec Python"
   ]
  },
  {
   "cell_type": "markdown",
   "metadata": {},
   "source": [
    "Un fichier Exel (.xlsx) est disponible ici : https://www.dropbox.com/s/nu24hm7kbj08pfr/stock.xlsx?dl=0"
   ]
  },
  {
   "cell_type": "code",
   "execution_count": 54,
   "metadata": {},
   "outputs": [
    {
     "name": "stdout",
     "output_type": "stream",
     "text": [
      "    fruit  quantity\n",
      "0   apple         1\n",
      "1   pear          5\n",
      "2  mellon         8\n",
      "3   mango        10\n"
     ]
    }
   ],
   "source": [
    "import pandas as pd\n",
    "\n",
    "df = pd.read_excel (r'stock.xlsx')\n",
    "print (df)"
   ]
  },
  {
   "cell_type": "code",
   "execution_count": 37,
   "metadata": {},
   "outputs": [],
   "source": [
    "data=df.to_numpy()"
   ]
  },
  {
   "cell_type": "code",
   "execution_count": 38,
   "metadata": {},
   "outputs": [
    {
     "name": "stdout",
     "output_type": "stream",
     "text": [
      "[['apple' 1]\n",
      " ['pear ' 5]\n",
      " ['mellon' 8]\n",
      " ['mango' 10]]\n"
     ]
    }
   ],
   "source": [
    "print(data)"
   ]
  },
  {
   "cell_type": "code",
   "execution_count": 40,
   "metadata": {},
   "outputs": [
    {
     "name": "stdout",
     "output_type": "stream",
     "text": [
      "apple\n"
     ]
    }
   ],
   "source": [
    "print(data[0][0])"
   ]
  },
  {
   "cell_type": "code",
   "execution_count": 41,
   "metadata": {},
   "outputs": [
    {
     "name": "stdout",
     "output_type": "stream",
     "text": [
      "apple\n"
     ]
    }
   ],
   "source": [
    "print(data[0,0])"
   ]
  },
  {
   "cell_type": "code",
   "execution_count": 42,
   "metadata": {},
   "outputs": [
    {
     "name": "stdout",
     "output_type": "stream",
     "text": [
      "1\n"
     ]
    }
   ],
   "source": [
    "print(data[0,1])"
   ]
  },
  {
   "cell_type": "markdown",
   "metadata": {},
   "source": [
    "# Créer un fichier Excel avec Python\n",
    "Write https://pythonbasics.org/write-excel/"
   ]
  },
  {
   "cell_type": "code",
   "execution_count": 43,
   "metadata": {},
   "outputs": [],
   "source": [
    "import openpyxl"
   ]
  },
  {
   "cell_type": "code",
   "execution_count": 44,
   "metadata": {},
   "outputs": [
    {
     "name": "stdout",
     "output_type": "stream",
     "text": [
      "        a   b   c\n",
      "one    11  21  31\n",
      "two    12  22  32\n",
      "three  31  32  33\n"
     ]
    }
   ],
   "source": [
    "\n",
    "df = pd.DataFrame([[11, 21, 31], [12, 22, 32], [31, 32, 33]],\n",
    "                  index=['one', 'two', 'three'], columns=['a', 'b', 'c'])\n",
    "\n",
    "print(df)\n",
    "#         a   b   c\n",
    "# one    11  21  31\n",
    "# two    12  22  32\n",
    "# three  31  32  33"
   ]
  },
  {
   "cell_type": "code",
   "execution_count": 45,
   "metadata": {},
   "outputs": [],
   "source": [
    "df.to_excel('pandas_to_excel.xlsx', sheet_name='new_sheet_name')"
   ]
  }
 ],
 "metadata": {
  "kernelspec": {
   "display_name": "Python 3",
   "language": "python",
   "name": "python3"
  },
  "language_info": {
   "codemirror_mode": {
    "name": "ipython",
    "version": 3
   },
   "file_extension": ".py",
   "mimetype": "text/x-python",
   "name": "python",
   "nbconvert_exporter": "python",
   "pygments_lexer": "ipython3",
   "version": "3.7.7"
  }
 },
 "nbformat": 4,
 "nbformat_minor": 1
}
