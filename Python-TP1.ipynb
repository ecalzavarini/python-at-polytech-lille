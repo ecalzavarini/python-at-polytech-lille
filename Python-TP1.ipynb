{
 "cells": [
  {
   "cell_type": "markdown",
   "metadata": {},
   "source": [
    "##### TP 1 -- Informatique CM3 -- "
   ]
  },
  {
   "cell_type": "markdown",
   "metadata": {},
   "source": [
    "# Python @ Polytech'Lille"
   ]
  },
  {
   "cell_type": "markdown",
   "metadata": {},
   "source": [
    "Le texte de cette session de travaux pratiques est également disponible ici: \n",
    "\n",
    "https://github.com/ecalzavarini/python-at-polytech-lille/blob/master/Python-TP1.ipynb"
   ]
  },
  {
   "cell_type": "markdown",
   "metadata": {},
   "source": [
    "## Introduction aux commandes Linux"
   ]
  },
  {
   "cell_type": "markdown",
   "metadata": {},
   "source": [
    "Avant de commencer avec notre introduction au langage de programmation Python, nous devons familiariser avec l'environnement du système d'explotation Linux. \n",
    "\n",
    "La première étape est d'apprendre les commandes les plus courantes. Ces commandes peuvent être tapées sur une console Linux.\n",
    "\n",
    "Pour savoir comment accéder à une console sur la distribution Linux Debian dont vous disposez, voir:  https://wiki.debian.org/fr/Console ou simplement recherchez l'application \"terminal\" sur le menu des applications."
   ]
  },
  {
   "cell_type": "markdown",
   "metadata": {},
   "source": [
    "#### La commande pwd:"
   ]
  },
  {
   "cell_type": "markdown",
   "metadata": {},
   "source": [
    "La commande \"pwd\" affiche le répertoire courant, c'est à dire le répertoire où l'on se trouve au moment où on tape la commande."
   ]
  },
  {
   "cell_type": "markdown",
   "metadata": {},
   "source": [
    "#### La commande ls:"
   ]
  },
  {
   "cell_type": "markdown",
   "metadata": {},
   "source": [
    "La commande \"ls\" permet de lister ce que contient un répertoire.\n",
    "Il y a plusieurs manières de l'utiliser :\n",
    "\n",
    "\"ls\" donne la liste brute de ce qui se trouve dans le répertoire\n",
    "\n",
    "\"ls -l\" donne la liste de ce qui se trouve dans le répertoire avec des informations \tcomplémentaires (droits de lecture, écriture et exécution, propriétaire, taille, date de création ou de dernière modification).\n",
    "\n",
    "\"ls -a\" liste tous (pensez au mot \"all\") les fichiers du répertoire, y compris les fichiers cachés. Cette option est très utile lorsque l'on se trouve dans son répertoire personnel car il contient les fichiers de configuration de l'utilisateur dont les noms commencent généralement par un point et seule l'option -a permet de détecter leur existence."
   ]
  },
  {
   "cell_type": "markdown",
   "metadata": {},
   "source": [
    "#### La commande mkdir:"
   ]
  },
  {
   "cell_type": "markdown",
   "metadata": {},
   "source": [
    "La commande \"mkdir\" permet de créer un répertoire.\n",
    "\n",
    "\"mkdir nom_repertoire\" crée le répertoire ayant pour nom nom_repertoire."
   ]
  },
  {
   "cell_type": "markdown",
   "metadata": {},
   "source": [
    "#### La commande cd:"
   ]
  },
  {
   "cell_type": "markdown",
   "metadata": {},
   "source": [
    "La commande \"cd\" permet de se déplacer dans l'arborescence de repertoires. Il y a plusieurs manières de l'utiliser : \n",
    "\n",
    "\"cd nom_repertoire\" permet d'aller dans le répertoire nom_repertoire\n",
    "\n",
    "\"cd ..\" permet de retourner dans le répertoire parent (celui qui est au-dessus dans l'arborescence de répertoires)."
   ]
  },
  {
   "cell_type": "markdown",
   "metadata": {},
   "source": [
    "#### L'éditeur de texte emacs:"
   ]
  },
  {
   "cell_type": "markdown",
   "metadata": {},
   "source": [
    "Pour créer ou modifier un fichier \"emacs -nw nom_fichier.txt\"\n",
    "\n",
    "Pour sauvegarder tapez la combinaison de touches suivante: Ctrl-x Ctrl-s.\n",
    "\n",
    "Pour quitter emacs: Ctrl-x Ctrl-c."
   ]
  },
  {
   "cell_type": "markdown",
   "metadata": {},
   "source": [
    "#### La commande rm:"
   ]
  },
  {
   "cell_type": "markdown",
   "metadata": {},
   "source": [
    "La commande \"rm\" permet de supprimer un fichier :\n",
    "\n",
    "\"rm nom_fichier\" supprime le fichier nom_fichier si il se trouve dans le répertoire courant.\n",
    "\n",
    "\"rm –r\" supprime un répertoire et ses sous répertoires."
   ]
  },
  {
   "cell_type": "markdown",
   "metadata": {},
   "source": [
    "#### La commande top: "
   ]
  },
  {
   "cell_type": "markdown",
   "metadata": {},
   "source": [
    "La commande \"top\" affiche en continu des informations décrivant l'activité du système. Elle permet surtout de suivre les ressources que les processus utilisent (quantité de mémoire, pourcentage de CPU...).\n",
    "Sous top il est possible d'expédier de manière interactive un signal à un processus, par exemple afin de le stopper, en tapant \"k\", top demande ensuite l'identifiant (PID) du processus concerné.\n",
    "Pour quitter top, appuyer simplement sur la touche \"q\"."
   ]
  },
  {
   "cell_type": "markdown",
   "metadata": {},
   "source": [
    "#### Archivage de données (tar):"
   ]
  },
  {
   "cell_type": "markdown",
   "metadata": {},
   "source": [
    "La commande \"tar\" gère des archives, contenant chacune au moins un répertoire ou fichier.\n",
    "\n",
    "Vous aurez souvent besoin de \"tar xzf nom_du_fichier.tar.gz\" , qui décompacte une archive au format .tar.gz ou .tgz.\n",
    "L'extension .tar.gz ou .tgz indique que le fichier est une archive tar et qu'il est compacté.\n",
    "Les arguments (aussi appelés options) employés dans la commande précédente (\"xzf\") peuvent être ainsi compris:\n",
    "\n",
    "x (extraction) déclenche l'extraction de certains fichiers d'une archive (lorsque l'on ne spécifie pas les noms des fichiers que l'on souhaite extraire de l'archive, tar les extrait tous)\n",
    "\n",
    "z décompacte l'archive grâce à la commande gzip\n",
    "\n",
    "f traite un fichier-archive dont le nom suit (ici: \"nom_du_fichier.tar.gz\")\n",
    "\n",
    "Si je me trouve dans le répertoire \"/home/delcros/\" la commande suivante créera une archive du répertoire \"/home/delcros/personnel\" : \n",
    "\n",
    "\"tar cvzf personnel.tgz personnel\"\n",
    "\n",
    "l'option \"c\" permet de créer une archive\n",
    "\n",
    "L'option \"z\" compacte l'archive grâce à gzip."
   ]
  },
  {
   "cell_type": "markdown",
   "metadata": {},
   "source": [
    "#### Questions  : "
   ]
  },
  {
   "cell_type": "markdown",
   "metadata": {},
   "source": [
    "1) Ouvrir une consolle Linux et créer un répertoire TP-PYTHON dans le répertoire courant. Comment vérifier qu'il a bien été créé ?"
   ]
  },
  {
   "cell_type": "markdown",
   "metadata": {},
   "source": [
    "2) Aller dans le répertoire que vous venez de créer, puis lister ce qu'il contient. Quelle commande vous permet de savoir si vous êtes bien dans le répertoire TP-PYTHON ?\n"
   ]
  },
  {
   "cell_type": "markdown",
   "metadata": {},
   "source": [
    "3) Créer un fichier appelé README.txt dans le répertoire TP-PYTHON avec la commande \"emacs\", taper quelques lignes dedans. Enregistrer le ficher. Vérifier qu'il a bien été créé."
   ]
  },
  {
   "cell_type": "markdown",
   "metadata": {},
   "source": [
    "4) Créer un fichier-archive du repertoire TP-PYTHON."
   ]
  },
  {
   "cell_type": "markdown",
   "metadata": {},
   "source": [
    "5) Supprimer le fichier que vous venez de créer, comment vérifier qu'il a bien été supprimé ?"
   ]
  },
  {
   "cell_type": "markdown",
   "metadata": {},
   "source": [
    "6) Supprimer le répertoire TP-PYTHON. Vérifier qu'il a bien été supprimé.\n"
   ]
  },
  {
   "cell_type": "markdown",
   "metadata": {},
   "source": [
    "7) Lancer l'interprète du langage Python (écrire \"python\" dans la consolle de Linux).\n",
    "Supposons maintenant que, pour une raison quelconque, le programme est bloqué. Tuez l'interprète Python  en utilisant la commande \"top\". "
   ]
  },
  {
   "cell_type": "markdown",
   "metadata": {},
   "source": [
    "## Introduction à la programmation numérique en Python"
   ]
  },
  {
   "cell_type": "markdown",
   "metadata": {},
   "source": [
    "Pour lancer l'interprète du langage Python écrire \"python\" dans la consolle de Linux.\n",
    "\n",
    "Saisir votre série d'instructions Python après l'invite de la ligne de commande \">>>\" (à noter que chaque instruction doit être validée avec la touche \"return\").\n",
    "\n"
   ]
  },
  {
   "cell_type": "markdown",
   "metadata": {},
   "source": [
    "Une deuxième possibilité d'utilisation beaucoup plus pratique est de créer un fichier (appelé script), par exemple avec l'éditeur de text emacs : \"emacs -nw script.py\"\n",
    "\n"
   ]
  },
  {
   "cell_type": "markdown",
   "metadata": {},
   "source": [
    "\n",
    "Une fois que les instructions ont été écrites dans ce fichier, le script peut être exécuté avec la commande \"python script.py\".\n",
    "\n"
   ]
  },
  {
   "cell_type": "markdown",
   "metadata": {},
   "source": [
    "   "
   ]
  },
  {
   "cell_type": "markdown",
   "metadata": {},
   "source": [
    "\n",
    "\n",
    "\n",
    "Le site le plus utile pour trouver des informations sur python est :\n",
    "https://docs.python.org/2/  \n",
    "voir notamment dans les sections \"Tutorial\" et \"Language reference\".\n",
    "\n",
    "\n"
   ]
  },
  {
   "cell_type": "markdown",
   "metadata": {},
   "source": [
    "       "
   ]
  },
  {
   "cell_type": "markdown",
   "metadata": {},
   "source": [
    "### Modalités pour accomplir le TP et compte rendu "
   ]
  },
  {
   "cell_type": "markdown",
   "metadata": {},
   "source": [
    "\n",
    "\n",
    "Pendant ce TP vous aurez à écrire plusieurs scripts (nous vous suggérons de les nommer script1.py, script2.py, ...). \n",
    "Les scripts doivent être accompagnés par un document descriptif unique (README.txt). \n",
    "Dans ce fichier, vous devrez décrire le mode de fonctionnement des scripts et, si besoin, mettre vos commentaires.\n",
    "Merci d'y écrires aussi vos nomes et prénoms complets. Tous les fichiers doivent être mis dans un dossier appelé TP1-nom1-nom2 et ensuite être compressés dans un fichier TP1-nom1-nom2.tgz .\n",
    "\n",
    "Enfin vous allez envoyer ce fichier par email à l'enseignant : soit Enrico (enrico.calzavarini@polytech-lille.fr) soit Stefano (stefano.berti@polytech-lille.fr).\n",
    "\n",
    "\n",
    "\n"
   ]
  },
  {
   "cell_type": "markdown",
   "metadata": {},
   "source": [
    "#### Vous avez une semaine de temps pour compléter le TP, c'est-à-dire que la date limite pour envoyer vos travaux c'est dans 7 jours à partir d'aujourd'hui. "
   ]
  },
  {
   "cell_type": "markdown",
   "metadata": {},
   "source": [
    "## Script 1 :  entrer ou afficher du texte et  des données "
   ]
  },
  {
   "cell_type": "markdown",
   "metadata": {},
   "source": [
    "\n",
    "Nous voulons écrire un script qui tout d'abord affiche simplement une message de bienvenue :"
   ]
  },
  {
   "cell_type": "code",
   "execution_count": 10,
   "metadata": {
    "collapsed": false
   },
   "outputs": [
    {
     "name": "stdout",
     "output_type": "stream",
     "text": [
      "Bienvenue au premier TP d'informatique\n"
     ]
    }
   ],
   "source": [
    "print(\"Bienvenue au premier TP d'informatique\")"
   ]
  },
  {
   "cell_type": "markdown",
   "metadata": {},
   "source": [
    "Vérifiez que le programme ci-dessus fonctionne quand il est écrit dans un script (appelé par exemple script1.py) et interprété par python avec la commande \"python script1.py\"."
   ]
  },
  {
   "cell_type": "markdown",
   "metadata": {},
   "source": [
    "Nous souhaitons maintenant que ce programme nous demande aussi combien d'étudiants sont présents dans la salle et qu'il affiche ce numéro sur l'écran."
   ]
  },
  {
   "cell_type": "markdown",
   "metadata": {},
   "source": [
    "A noter que la lecture de données peut se faire par interrogation de l'utilisateur. Par exemple :  "
   ]
  },
  {
   "cell_type": "code",
   "execution_count": 11,
   "metadata": {
    "collapsed": false
   },
   "outputs": [
    {
     "name": "stdout",
     "output_type": "stream",
     "text": [
      "Entrer la valeur de la precision p, p =0.1\n"
     ]
    }
   ],
   "source": [
    "p = input(\"Entrer la valeur de la precision p, p =\")"
   ]
  },
  {
   "cell_type": "markdown",
   "metadata": {},
   "source": [
    "l'écriture des données enregistrées dans une variable peut se faire tout simplement encore avec la fonction \"print\""
   ]
  },
  {
   "cell_type": "code",
   "execution_count": 12,
   "metadata": {
    "collapsed": false
   },
   "outputs": [
    {
     "name": "stdout",
     "output_type": "stream",
     "text": [
      "la valeure de la precision est :0.1\n"
     ]
    }
   ],
   "source": [
    "print(\"la valeure de la precision est :\" + str(p) )"
   ]
  },
  {
   "cell_type": "markdown",
   "metadata": {},
   "source": [
    "ou de façon équivalente :"
   ]
  },
  {
   "cell_type": "code",
   "execution_count": 13,
   "metadata": {
    "collapsed": false
   },
   "outputs": [
    {
     "name": "stdout",
     "output_type": "stream",
     "text": [
      "la valeure de la precision est : 1.000000e-01\n"
     ]
    }
   ],
   "source": [
    "print(\"la valeure de la precision est : %e\" %p )"
   ]
  },
  {
   "cell_type": "markdown",
   "metadata": {},
   "source": [
    "### Commentaires en python"
   ]
  },
  {
   "cell_type": "markdown",
   "metadata": {},
   "source": [
    "Une bonne habitude à prendre est d'écrire des commentaires dans le srtipts. \n",
    "Nous pouvons le faire avec le symbole \" # \" , par exemple :"
   ]
  },
  {
   "cell_type": "code",
   "execution_count": 14,
   "metadata": {
    "collapsed": false
   },
   "outputs": [
    {
     "name": "stdout",
     "output_type": "stream",
     "text": [
      "la valeure de p est : 1.000000e-01\n"
     ]
    }
   ],
   "source": [
    "print(\"la valeure de p est : %e\" %p ) # ici nous imprimons le résultat final"
   ]
  },
  {
   "cell_type": "markdown",
   "metadata": {},
   "source": [
    "#### Écrivez donc votre premier script!  "
   ]
  },
  {
   "cell_type": "markdown",
   "metadata": {},
   "source": [
    "## Script 2 : effectuer des opérations simples sur les variables"
   ]
  },
  {
   "cell_type": "markdown",
   "metadata": {},
   "source": [
    "Nous souhaiton écrire un script qui fait la conversion d'unité pour des mesures de pression. "
   ]
  },
  {
   "cell_type": "markdown",
   "metadata": {},
   "source": [
    "\n",
    "\n",
    "Ce script devra demander à l'utilisateur d'introduire une valeur de pression et une unité de mesure (choisi parmi: Pascal (Pa) , bar (bar) , atmosphère (atm) , Torricelli (torr) et pounds per square inch (psi)), puis demander à l'utilisateur quelle unité il souhaite pour la conversion et enfin afficher la valeur de pression dans l'unité demandée.\n",
    "\n",
    "\n"
   ]
  },
  {
   "cell_type": "markdown",
   "metadata": {},
   "source": [
    "Pour mener  à bien ce script les informations suivantes peuvent être utiles :"
   ]
  },
  {
   "cell_type": "markdown",
   "metadata": {},
   "source": [
    "La table de conversion des unités de pression peut être repèrée ici :\n",
    "\n",
    "http://en.wikipedia.org/wiki/Pressure_measurement#Units"
   ]
  },
  {
   "cell_type": "markdown",
   "metadata": {},
   "source": [
    "### L'affectation de données dans des variables"
   ]
  },
  {
   "cell_type": "code",
   "execution_count": 15,
   "metadata": {
    "collapsed": false
   },
   "outputs": [],
   "source": [
    "a = 5.0 \n",
    "b , c = 10 , 3\n",
    "name = \"Mark\""
   ]
  },
  {
   "cell_type": "markdown",
   "metadata": {},
   "source": [
    "Ici \"a\" , \"b\" , \"c\" et \"name\" sont des identificateurs (ou simplement des variables). \n",
    "\n",
    "Python ne nécessite pas de déclarer explicitement les types de variables, différemment qu'en Fortran, C et d'autres langages. Juste affectez une variable et Python comprendera automatiquement, ce n'est pas nécessaire de préciser le type (réel, entier, character, etc...) \n",
    "\n",
    "Vous pouvez demander à Python de vous dire quel type il a attribué à vos variables:"
   ]
  },
  {
   "cell_type": "code",
   "execution_count": 16,
   "metadata": {
    "collapsed": false
   },
   "outputs": [
    {
     "data": {
      "text/plain": [
       "float"
      ]
     },
     "execution_count": 16,
     "metadata": {},
     "output_type": "execute_result"
    }
   ],
   "source": [
    "type(a) "
   ]
  },
  {
   "cell_type": "code",
   "execution_count": 17,
   "metadata": {
    "collapsed": false
   },
   "outputs": [
    {
     "data": {
      "text/plain": [
       "int"
      ]
     },
     "execution_count": 17,
     "metadata": {},
     "output_type": "execute_result"
    }
   ],
   "source": [
    "type(b) "
   ]
  },
  {
   "cell_type": "code",
   "execution_count": 18,
   "metadata": {
    "collapsed": false
   },
   "outputs": [
    {
     "data": {
      "text/plain": [
       "str"
      ]
     },
     "execution_count": 18,
     "metadata": {},
     "output_type": "execute_result"
    }
   ],
   "source": [
    "type(name)"
   ]
  },
  {
   "cell_type": "markdown",
   "metadata": {},
   "source": [
    "Portez une attention particulière à l'attribution de valeurs à virgule flottante à des variables ou vous risquez d'obtenir des valeurs que vous ne vous attendez pas dans vos programmes. Par exemple ,"
   ]
  },
  {
   "cell_type": "code",
   "execution_count": 19,
   "metadata": {
    "collapsed": false
   },
   "outputs": [
    {
     "name": "stdout",
     "output_type": "stream",
     "text": [
      "3\n"
     ]
    }
   ],
   "source": [
    "print(b/c)"
   ]
  },
  {
   "cell_type": "markdown",
   "metadata": {},
   "source": [
    "Vous voyez , si vous divisez un nombre entier par un nombre entier , Python retourne une réponse arrondie à l'entier le plus proche . Mais si vous voulez une résultat à virgule flottante (type float), l'un des numéros doit être de type float. Le simple ajout d'un point décimal fera l'affaire :"
   ]
  },
  {
   "cell_type": "code",
   "execution_count": 20,
   "metadata": {
    "collapsed": false
   },
   "outputs": [
    {
     "name": "stdout",
     "output_type": "stream",
     "text": [
      "3.33333333333\n"
     ]
    }
   ],
   "source": [
    "b , c = 10. , 3.\n",
    "print (b/c)"
   ]
  },
  {
   "cell_type": "markdown",
   "metadata": {},
   "source": [
    "### Utilisation des listes"
   ]
  },
  {
   "cell_type": "markdown",
   "metadata": {},
   "source": [
    "Une liste est une collections d’objets :"
   ]
  },
  {
   "cell_type": "code",
   "execution_count": 21,
   "metadata": {
    "collapsed": false
   },
   "outputs": [
    {
     "name": "stdout",
     "output_type": "stream",
     "text": [
      "0\n",
      "4\n",
      "4\n",
      "[0, 5, 6]\n",
      "[0, 6]\n"
     ]
    }
   ],
   "source": [
    "# Definition et affectation d'une liste\n",
    "l = [0, 5, 6, 4]  \n",
    "\n",
    "# Les indices commencent à 0, et non à 1\n",
    "print(l[0])      \n",
    "\n",
    "# Le dernier indice est le 3ème\n",
    "print(l[3])      \n",
    "\n",
    "# On peut compter à partir de la fin, en utilisant des indices negatifs\n",
    "print(l[-1])     \n",
    "\n",
    "# On peut selectioner une tranche (slice) d'elements dans la liste\n",
    "print(l[0:3])    \n",
    "\n",
    "# La syntaxe du “slicing” est [start:stop:step]\n",
    "print(l[0:3:2])  "
   ]
  },
  {
   "cell_type": "markdown",
   "metadata": {},
   "source": [
    "Une liste peut être modifiée:"
   ]
  },
  {
   "cell_type": "code",
   "execution_count": 22,
   "metadata": {
    "collapsed": false
   },
   "outputs": [
    {
     "name": "stdout",
     "output_type": "stream",
     "text": [
      "[0, 5, 13, 4]\n"
     ]
    }
   ],
   "source": [
    "l[2] = l[2]*2 + 1\n",
    "\n",
    "print(l)"
   ]
  },
  {
   "cell_type": "markdown",
   "metadata": {},
   "source": [
    "Si nous voulons connaître le nombre d'éléments dans une liste :"
   ]
  },
  {
   "cell_type": "code",
   "execution_count": 23,
   "metadata": {
    "collapsed": false
   },
   "outputs": [
    {
     "data": {
      "text/plain": [
       "4"
      ]
     },
     "execution_count": 23,
     "metadata": {},
     "output_type": "execute_result"
    }
   ],
   "source": [
    "len(l)"
   ]
  },
  {
   "cell_type": "markdown",
   "metadata": {},
   "source": [
    "Nous pouvons  créer  de la même manière une liste de mots  :"
   ]
  },
  {
   "cell_type": "code",
   "execution_count": 24,
   "metadata": {
    "collapsed": false
   },
   "outputs": [
    {
     "name": "stdout",
     "output_type": "stream",
     "text": [
      "avion\n"
     ]
    }
   ],
   "source": [
    "mots = [\"arbre\" , \"avion\" , \"nuage\"]\n",
    "\n",
    "print(mots[1])"
   ]
  },
  {
   "cell_type": "markdown",
   "metadata": {},
   "source": [
    "### Structure alternative \"if\""
   ]
  },
  {
   "cell_type": "markdown",
   "metadata": {},
   "source": [
    "Regardez l'exemple ci-dessous concernant le calcul des racines réelles d'une équation algébrique du second ordre, pour comprendre le fonctionnement d'une structure \"if\" :"
   ]
  },
  {
   "cell_type": "code",
   "execution_count": 25,
   "metadata": {
    "collapsed": false
   },
   "outputs": [
    {
     "name": "stdout",
     "output_type": "stream",
     "text": [
      "RESULTATS :\n",
      "Deux racines distinctes : x1 = -1.63245553203 et x2 = -0.367544467966\n"
     ]
    }
   ],
   "source": [
    "d = b**2-4*a*c\n",
    "\n",
    "if d > 0 :\n",
    "    x1 = (-b - sqrt(d))/(2*a)\n",
    "    x2 = (-b + sqrt(d))/(2*a)\n",
    "    print(\"RESULTATS :\")\n",
    "    print(\"Deux racines distinctes : x1 = \" + str(x1) + \" et x2 = \" + str(x2))\n",
    "elif d == 0 :\n",
    "    x1 = -b/(2*a)\n",
    "    print(\"RESULTATS :\")\n",
    "    print(\"Une racine double : x1 = \" + str(x1))\n",
    "else :\n",
    "    print(\"RESULTATS :\")\n",
    "    print(\"Aucune solution!\")    "
   ]
  },
  {
   "cell_type": "markdown",
   "metadata": {},
   "source": [
    "### à noter : indentation nécessaire en langage Python"
   ]
  },
  {
   "cell_type": "markdown",
   "metadata": {},
   "source": [
    "Pour les structures de controle du langage Python, comme \"if\"(et nous verros ensuite \"for\"), il n'y a pas de mot clé \"end\" pour signaler la fin du bloc de lignes concernées par les structures \"if\",\"while\",\"for\".\n",
    "Il faut par contre indenter les lignes (c'est à dire créer des décalages à l'aide de la touche tabulation \"tab\" du clavier) afin de définir une dépendance d'un bloc de lignes par rapport à un autre."
   ]
  },
  {
   "cell_type": "markdown",
   "metadata": {},
   "source": [
    "## Script 3 : lire des données à partir d'un fichier et les élaborer"
   ]
  },
  {
   "cell_type": "markdown",
   "metadata": {},
   "source": [
    "Nous disposons des données de pression enregistrées  (à la fréquence d'une mesure par seconde) par un tube de Pitot d'un avion en vol à une altitude de 10000 mètres :\n",
    "\n",
    "https://github.com/ecalzavarini/python-at-polytech-lille/blob/master/pressure.txt\n",
    "\n",
    "\n",
    "Vous pouvez télécharger ce fichier avec la commande de Linux \" wget \". Ecrivez sur votre console :  \"wget    adresse_internet_du_fichier \". "
   ]
  },
  {
   "cell_type": "code",
   "execution_count": 26,
   "metadata": {
    "collapsed": false
   },
   "outputs": [
    {
     "data": {
      "image/jpeg": "[encoded data removed]",
      "text/plain": [
       "<IPython.core.display.Image object>"
      ]
     },
     "execution_count": 26,
     "metadata": {},
     "output_type": "execute_result"
    }
   ],
   "source": [
    "from IPython.display import Image\n",
    "Image('http://upload.wikimedia.org/wikipedia/commons/0/00/Pitot_tube_wings-fr.jpg')"
   ]
  },
  {
   "cell_type": "markdown",
   "metadata": {},
   "source": [
    "On est interessé à écrire un script qui lit ces données et qui les transforme dans des mesures de vitesse. La relation entre la pression et la vitesse est donnée par la loi de Bernoulli: "
   ]
  },
  {
   "cell_type": "markdown",
   "metadata": {},
   "source": [
    "$$V(t) = \\sqrt{\\frac{2\\left(p(t)-p_s\\right)}{\\rho}}.$$ \n",
    "Ici:\n",
    "\n",
    "$p(t)$ est la pression mesurée au cours du temps ($t$) en Pascal,\n",
    "\n",
    "$p_s$ est la pression statique, $p_s=4 \\, kPa$,\n",
    "\n",
    "$\\rho$ est la masse volumique de l'air, $\\rho=0.91875 \\, kg/m^3$."
   ]
  },
  {
   "cell_type": "markdown",
   "metadata": {},
   "source": [
    "Pour la réalisation de ce script les informations suivantes vous seront utiles :"
   ]
  },
  {
   "cell_type": "markdown",
   "metadata": {},
   "source": [
    "### La lecture des données"
   ]
  },
  {
   "cell_type": "code",
   "execution_count": 27,
   "metadata": {
    "collapsed": false
   },
   "outputs": [
    {
     "name": "stdout",
     "output_type": "stream",
     "text": [
      "<type 'str'>\n",
      "53274.300000\n"
     ]
    }
   ],
   "source": [
    "# Ouverture d'un fichier\n",
    "f = open(\"pressure.txt\", \"r\")\n",
    "# définition d'une liste vide\n",
    "data=[]\n",
    "# lecture de fichier complet et affectation des éléments de la liste \n",
    "data=f.read().split()\n",
    "# fermeture du fichier f\n",
    "f.close()\n",
    "\n",
    "#contrôle de type\n",
    "print( type(data[0]) )\n",
    "#impression de la première donnée \n",
    "print(data[0])"
   ]
  },
  {
   "cell_type": "code",
   "execution_count": 28,
   "metadata": {
    "collapsed": false
   },
   "outputs": [
    {
     "name": "stdout",
     "output_type": "stream",
     "text": [
      "<type 'float'>\n",
      "53274.3\n"
     ]
    }
   ],
   "source": [
    "#conversion au type désiré \n",
    "data[0] = float(data[0])\n",
    "#contrôle de type\n",
    "print ( type(data[0]) )\n",
    "#impression\n",
    "print data[0]"
   ]
  },
  {
   "cell_type": "markdown",
   "metadata": {},
   "source": [
    "à noter que lorsque les données sont lues de la manière ci-dessus, elles sont stockées dans une liste de type chaîne de caractères (string). \n",
    "Si nous devons effectuer des opérations mathématiques sur elles, nous devons les convertir en un type numérique ( par exemple \"float \" ou \"int\" )."
   ]
  },
  {
   "cell_type": "markdown",
   "metadata": {},
   "source": [
    "### Ecriture dans un fichier"
   ]
  },
  {
   "cell_type": "code",
   "execution_count": 29,
   "metadata": {
    "collapsed": true
   },
   "outputs": [],
   "source": [
    "val1 = 5.0  # affectation d'une variable réelle\n",
    "\n",
    "val2 = str(val1) # conversion en chaîne de caractères\n",
    "\n",
    "# Ouverture d'un nouveau fichier\n",
    "f = open(\"output.txt\", \"w\")\n",
    "# écriture dans le fichier \n",
    "f.write(val2)  \n",
    "# fermeture du fichier \n",
    "f.close()"
   ]
  },
  {
   "cell_type": "markdown",
   "metadata": {},
   "source": [
    "à noter que la commande \"write\" ne peut écrire que des chaînes de caractères (string)."
   ]
  },
  {
   "cell_type": "markdown",
   "metadata": {},
   "source": [
    "### La structure repetitive \"for\""
   ]
  },
  {
   "cell_type": "markdown",
   "metadata": {},
   "source": [
    "Regardez l'exemple ci-dessous concernant tri par sélection de données, pour comprendre le fonctionnement d'une structure  boucle \"for\" :"
   ]
  },
  {
   "cell_type": "code",
   "execution_count": 30,
   "metadata": {
    "collapsed": false
   },
   "outputs": [
    {
     "name": "stdout",
     "output_type": "stream",
     "text": [
      "Liste triée :\n",
      "[0.0, 1.0, 2.0, 2.0, 3.0, 5.0, 8.0, 40.0, 65.0, 98.0, 115.0]\n"
     ]
    }
   ],
   "source": [
    "# Tri par sélection\n",
    "# Données initiales \n",
    "M = [1. , 2. , 5. , 40. , 65. , 2.,8. , 98. ,115. ,0. , 3.]\n",
    "\n",
    "# Détermination de la longueur  de la liste\n",
    "N = len(M) \n",
    "\n",
    "for i in range(0,N-1):   \n",
    "    for j in range(i+1,N):\n",
    "        if M[j] < M[i]:\n",
    "            val_temp = M[i]\n",
    "            M[i] = M[j]\n",
    "            M[j] = val_temp\n",
    "print(\"Liste triée :\")\n",
    "print(M)"
   ]
  },
  {
   "cell_type": "markdown",
   "metadata": {},
   "source": [
    "à noter que la commande \" range(a,b) \" produit une liste de nombres entiers progressifs  compris entre a et b-1 , par exemple :"
   ]
  },
  {
   "cell_type": "code",
   "execution_count": 31,
   "metadata": {
    "collapsed": false
   },
   "outputs": [
    {
     "data": {
      "text/plain": [
       "[0, 1, 2, 3, 4, 5, 6, 7, 8, 9]"
      ]
     },
     "execution_count": 31,
     "metadata": {},
     "output_type": "execute_result"
    }
   ],
   "source": [
    "range(0,10)"
   ]
  },
  {
   "cell_type": "markdown",
   "metadata": {},
   "source": [
    "### Utiliser les fonctions mathématiques"
   ]
  },
  {
   "cell_type": "markdown",
   "metadata": {},
   "source": [
    "En Python afin de pouvoir utiliser les fonctions mathématiques (par exemple, exp, sqrt , sin , cos , tan), vous devez les importer par avance à partir de la bibliothèque mathématique \"math\" :"
   ]
  },
  {
   "cell_type": "code",
   "execution_count": 32,
   "metadata": {
    "collapsed": false
   },
   "outputs": [],
   "source": [
    "# importing all functions from the math library\n",
    "from math import *      "
   ]
  },
  {
   "cell_type": "markdown",
   "metadata": {},
   "source": [
    "Nous vous demandons donc de lire la serie des données de pression dans le fichier et de calculer la vitesse de l' avion en utilisant la relation donnée.\n",
    "\n"
   ]
  },
  {
   "cell_type": "markdown",
   "metadata": {},
   "source": [
    "On demande ensuite de calculer la valeur moyenne de la vitesse de l'avion (en Km/heure) et de l'imprimer.\n",
    "\n"
   ]
  },
  {
   "cell_type": "markdown",
   "metadata": {},
   "source": [
    "Question bonus : Seriez-vous capable de calculer l'accélération de l'avion au cours du temps, et de l'enregistrer dans un fichier?\n",
    "\n",
    "\n"
   ]
  },
  {
   "cell_type": "markdown",
   "metadata": {},
   "source": [
    "## Script 4 : représentation graphique des données"
   ]
  },
  {
   "cell_type": "markdown",
   "metadata": {},
   "source": [
    "Nous souhaitons analyser graphiquement les données , par exemple en les traçant ou en faisant leur histogramme ."
   ]
  },
  {
   "cell_type": "markdown",
   "metadata": {},
   "source": [
    "Pour la réalisation de ce script les informations suivantes vous seront utiles :"
   ]
  },
  {
   "cell_type": "markdown",
   "metadata": {},
   "source": [
    "### Bibliothèques de Python"
   ]
  },
  {
   "cell_type": "markdown",
   "metadata": {},
   "source": [
    "Python dispose de nombreuses bibliothèques qui fournissent des fonctionnalités avancées comme la possibilté d'effectuer des opérations sur des matrices, des fonctions graphiques, et bien plus encore. Nous pouvons donc importer ces bibliothèques de fonctions pour étendre les capacités de Python dans nos programmes.\n",
    "\n",
    "Nous allons commencer par l'importation de quelques bibliothèques pour nous aider.\n",
    "\n",
    "Premièrement, nous l'avons déjà vu, nous utilisons Math, la bibliothèque mathématique standard qui comprend les fonctions trigonométriques et transcendantales, ainsi que  d'autres fonctions spéciales.\n",
    "\n",
    "Pour voir la liste complète des fonctions de la bibliothèque Math:\n",
    "https://docs.python.org/2/library/math.html#module-math\n",
    "\n",
    "Notre deuxième bibliothèque préférée est NumPy (Numerical Python), fournissant un grande nombre d'opérations matricielles utiles (cette bibliothèque est similaire à MATLAB ). Nous allons l'utiliser beaucoup! \n",
    "\n",
    "La documentation de numpy se trouve ici : http://docs.scipy.org/doc/numpy/reference/\n",
    "\n",
    "La troisième bibliothèque dont nous avons besoin est Matplotlib, une bibliothèque de graphique 2D que nous allons utiliser pour tracer nos résultats.\n",
    "\n",
    "La documentation de référence est disponible ici : http://matplotlib.org/contents.html\n",
    "\n",
    "Le code suivant sera au sommet de la plupart de vos programmes :"
   ]
  },
  {
   "cell_type": "code",
   "execution_count": 33,
   "metadata": {
    "collapsed": false
   },
   "outputs": [],
   "source": [
    "# importing all functions from the math library\n",
    "from math import *            \n",
    "# we import the array library, and call it 'np'\n",
    "import numpy as np                 \n",
    "# import plotting library, and call it 'plt'\n",
    "import matplotlib.pyplot as plt    "
   ]
  },
  {
   "cell_type": "markdown",
   "metadata": {},
   "source": [
    "Nous importons donc toutes les fonctions de la bibliothèque \"math\" et nous importons aussi\n",
    "une bibliothèque nommée \"numpy\". Enfin, nous importons un module appelé \"pyplot\" d'une grande bibliothèque appelée \"matplotlib\".  \n",
    "\n",
    "Les deux dernières lignes ci-dessus ont créé des raccourcis pour les bibliothèques tel que \"np\" et \"plt\" respectivement. La raison de la création des raccourcis est que nous avons besoin de taper les noms de bibliothèque assez souvent dans le code.\n",
    "Pour utiliser une fonction appartenant à l'une de ces bibliothèques, nous devons dire à Python où la chercher. Pour cela, chaque nom de fonction est écrit après le nom de la bibliothèque, avec un point entre les deux. Par exemple :"
   ]
  },
  {
   "cell_type": "code",
   "execution_count": 34,
   "metadata": {
    "collapsed": false
   },
   "outputs": [
    {
     "data": {
      "text/plain": [
       "array([ 0.,  0.,  0.,  0.,  0.])"
      ]
     },
     "execution_count": 34,
     "metadata": {},
     "output_type": "execute_result"
    }
   ],
   "source": [
    "np.zeros(5)"
   ]
  },
  {
   "cell_type": "markdown",
   "metadata": {},
   "source": [
    "### Tracer des courbes"
   ]
  },
  {
   "cell_type": "code",
   "execution_count": 35,
   "metadata": {
    "collapsed": false
   },
   "outputs": [
    {
     "data": {
      "image/png": "[encoded data removed]",
      "text/plain": [
       "<matplotlib.figure.Figure at 0x10e6bf9d0>"
      ]
     },
     "metadata": {},
     "output_type": "display_data"
    }
   ],
   "source": [
    "%matplotlib inline  \n",
    "#ignorez la ligne ci-dessus. c'est juste une commande de notre éditeur de texte\n",
    "\n",
    "x=np.linspace(-5,5,100)  # nous définissons une liste (array) avec Numpy \n",
    "plt.plot(x,np.sin(x))  # on utilise la fonction sinus de Numpy\n",
    "plt.plot(x,np.cos(x))  \n",
    "plt.ylabel('fonction sinus')\n",
    "plt.xlabel(\"l'axe des abcisses\")\n",
    "plt.show()"
   ]
  },
  {
   "cell_type": "markdown",
   "metadata": {},
   "source": [
    "### Changer le style des courbes"
   ]
  },
  {
   "cell_type": "code",
   "execution_count": 36,
   "metadata": {
    "collapsed": false
   },
   "outputs": [
    {
     "data": {
      "text/plain": [
       "[<matplotlib.lines.Line2D at 0x10ff47c50>,\n",
       " <matplotlib.lines.Line2D at 0x10ff47dd0>,\n",
       " <matplotlib.lines.Line2D at 0x10ff8c290>]"
      ]
     },
     "execution_count": 36,
     "metadata": {},
     "output_type": "execute_result"
    },
    {
     "data": {
      "image/png": "[encoded data removed]",
      "text/plain": [
       "<matplotlib.figure.Figure at 0x10e6bf7d0>"
      ]
     },
     "metadata": {},
     "output_type": "display_data"
    }
   ],
   "source": [
    "%matplotlib inline  \n",
    "\n",
    "t1=np.linspace(0,5,10)\n",
    "t2=np.linspace(0,5,20)\n",
    "plt.plot(t1, t1, 'r--', t1, t1**2, 'bs', t2, t2**3, 'g^-')"
   ]
  },
  {
   "cell_type": "markdown",
   "metadata": {},
   "source": [
    "### Un histogramme et un affichage de texte sur le graphique"
   ]
  },
  {
   "cell_type": "code",
   "execution_count": 37,
   "metadata": {
    "collapsed": false
   },
   "outputs": [
    {
     "data": {
      "image/png": "[encoded data removed]",
      "text/plain": [
       "<matplotlib.figure.Figure at 0x10ffc2650>"
      ]
     },
     "metadata": {},
     "output_type": "display_data"
    }
   ],
   "source": [
    "%matplotlib inline\n",
    "\n",
    "mu, sigma = 100, 15\n",
    "#generation de 10000 nombres aleatoires\n",
    "x = mu + sigma * np.random.randn(10000)  \n",
    "\n",
    "bins = 30\n",
    "\n",
    "#  histogramme des donnees\n",
    "plt.hist(x, bins, normed=1, facecolor='r', alpha=0.8)\n",
    "plt.xlabel('Donnees')\n",
    "plt.ylabel('Probabilite')\n",
    "plt.title('Histogramme')\n",
    "plt.text(60, .025, r'$\\mu=100,\\ \\sigma=15$')\n",
    "plt.axis([40, 160, 0, 0.03])\n",
    "plt.grid(True)"
   ]
  },
  {
   "cell_type": "markdown",
   "metadata": {},
   "source": [
    "### Questions : "
   ]
  },
  {
   "cell_type": "markdown",
   "metadata": {},
   "source": [
    "D'abord, nous demandons d'écrire un script qui trace un graphique de la pression (en kPa) en fonction du temps (en heures). N'oubliez pas d'indiquer les étiquettes sur les axes.\n",
    "\n",
    "\n"
   ]
  },
  {
   "cell_type": "markdown",
   "metadata": {},
   "source": [
    "\n",
    "\n",
    "Sur le même graphique tracer aussi trois lignes (en couleurs differentes) l'une représentant la valeur moyenne ( $\\mu$ ) de la pression et les deux autres la valeurs moyennes plus / moins l'écart type ( $\\sigma$ ).\n",
    "\n"
   ]
  },
  {
   "cell_type": "code",
   "execution_count": 38,
   "metadata": {
    "collapsed": false
   },
   "outputs": [
    {
     "data": {
      "image/jpeg": "[encoded data removed]",
      "text/plain": [
       "<IPython.core.display.Image object>"
      ]
     },
     "execution_count": 38,
     "metadata": {},
     "output_type": "execute_result"
    }
   ],
   "source": [
    "from IPython.display import Image\n",
    "Image(filename='mean-sigma.jpg')"
   ]
  },
  {
   "cell_type": "markdown",
   "metadata": {},
   "source": [
    "\n",
    "\n",
    "\n",
    "Deuxièmement, nous demandons également de construire un histogramme, mais  cette fois de la vitesse (en Km/h).\n",
    "\n",
    "\n"
   ]
  }
 ],
 "metadata": {
  "kernelspec": {
   "display_name": "Python 2",
   "language": "python",
   "name": "python2"
  },
  "language_info": {
   "codemirror_mode": {
    "name": "ipython",
    "version": 2
   },
   "file_extension": ".py",
   "mimetype": "text/x-python",
   "name": "python",
   "nbconvert_exporter": "python",
   "pygments_lexer": "ipython2",
   "version": "2.7.5"
  }
 },
 "nbformat": 4,
 "nbformat_minor": 0
}
